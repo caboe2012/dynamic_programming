{
 "cells": [
  {
   "cell_type": "code",
   "execution_count": 1,
   "metadata": {
    "collapsed": false
   },
   "outputs": [
    {
     "name": "stderr",
     "output_type": "stream",
     "text": [
      "//anaconda/lib/python2.7/site-packages/matplotlib/font_manager.py:273: UserWarning: Matplotlib is building the font cache using fc-list. This may take a moment.\n",
      "  warnings.warn('Matplotlib is building the font cache using fc-list. This may take a moment.')\n"
     ]
    }
   ],
   "source": [
    "# import the necessary modules to complete the assignment\n",
    "import math\n",
    "import random\n",
    "import urllib2\n",
    "import numpy as np\n",
    "import string\n",
    "import matplotlib.pyplot as plt\n",
    "# This student created file contains the functions to compute the Scoring Matrix, the Dynamic Programming Alignment table \n",
    "# as well as the Local and Global Alignments.\n",
    "import DP_Interface as student"
   ]
  },
  {
   "cell_type": "code",
   "execution_count": 2,
   "metadata": {
    "collapsed": true
   },
   "outputs": [],
   "source": [
    "PAM50_URL = \"http://storage.googleapis.com/codeskulptor-alg/alg_PAM50.txt\"\n",
    "HUMAN_EYELESS_URL = \"http://storage.googleapis.com/codeskulptor-alg/alg_HumanEyelessProtein.txt\"\n",
    "FRUITFLY_EYELESS_URL = \"http://storage.googleapis.com/codeskulptor-alg/alg_FruitflyEyelessProtein.txt\"\n",
    "CONSENSUS_PAX_URL = \"http://storage.googleapis.com/codeskulptor-alg/alg_ConsensusPAXDomain.txt\"\n",
    "WORD_LIST_URL = \"http://storage.googleapis.com/codeskulptor-assets/assets_scrabble_words3.txt\""
   ]
  },
  {
   "cell_type": "code",
   "execution_count": 3,
   "metadata": {
    "collapsed": true
   },
   "outputs": [],
   "source": [
    "# Code provided by the course for uploading necessary files\n",
    "def read_scoring_matrix(filename):\n",
    "    \"\"\"\n",
    "    Read a scoring matrix from the file named filename.  \n",
    "\n",
    "    Argument:\n",
    "    filename -- name of file containing a scoring matrix\n",
    "\n",
    "    Returns:\n",
    "    A dictionary of dictionaries mapping X and Y characters to scores\n",
    "    \"\"\"\n",
    "    scoring_dict = {}\n",
    "    scoring_file = urllib2.urlopen(filename)\n",
    "    ykeys = scoring_file.readline()\n",
    "    ykeychars = ykeys.split()\n",
    "    for line in scoring_file.readlines():\n",
    "        vals = line.split()\n",
    "        xkey = vals.pop(0)\n",
    "        scoring_dict[xkey] = {}\n",
    "        for ykey, val in zip(ykeychars, vals):\n",
    "            scoring_dict[xkey][ykey] = int(val)\n",
    "    return scoring_dict\n",
    "\n",
    "def read_protein(filename):\n",
    "    \"\"\"\n",
    "    Read a protein sequence from the file named filename.\n",
    "\n",
    "    Arguments:\n",
    "    filename -- name of file containing a protein sequence\n",
    "\n",
    "    Returns:\n",
    "    A string representing the protein\n",
    "    \"\"\"\n",
    "    protein_file = urllib2.urlopen(filename)\n",
    "    protein_seq = protein_file.read()\n",
    "    protein_seq = protein_seq.rstrip()\n",
    "    return protein_seq"
   ]
  },
  {
   "cell_type": "markdown",
   "metadata": {},
   "source": [
    "###Question 1 (2 pts)\n",
    "\n",
    "First, load the files HumanEyelessProtein and FruitflyEyelessProtein using the provided code. These files contain the amino acid sequences that form the eyeless proteins in the human and fruit fly genomes, respectively. Then load the scoring matrix PAM50 for sequences of amino acids. This scoring matrix is defined over the alphabet {𝙰,𝚁,𝙽,𝙳,𝙲,𝚀,𝙴,𝙶,𝙷,𝙸,𝙻,𝙺,𝙼,𝙵,𝙿,𝚂,𝚃,𝚆,𝚈,𝚅,𝙱,𝚉,𝚇,-} which represents all possible amino acids and gaps (the \"dashes\" in the alignment).\n",
    "\n",
    "Next, compute the local alignments of the sequences of HumanEyelessProtein and FruitflyEyelessProtein using the PAM50 scoring matrix and enter the score and local alignments for these two sequences below. Be sure to clearly distinguish which alignment is which and include any dashes ('-') that might appear in the local alignment. This problem will be assessed according to the following two items:\n",
    "\n",
    "- Is the score of the local alignment correct? (Hint: The sum of the decimal digits in the score is 20.)\n",
    "- Are the two sequences in the local alignments (with dashes included if inserted by the algorithm) clearly distinguished and correct?\n"
   ]
  },
  {
   "cell_type": "code",
   "execution_count": 18,
   "metadata": {
    "collapsed": true
   },
   "outputs": [],
   "source": [
    "# use the provided code to load the proteins into the respective variables\n",
    "human = read_protein(HUMAN_EYELESS_URL)\n",
    "fly = read_protein(FRUITFLY_EYELESS_URL)"
   ]
  },
  {
   "cell_type": "code",
   "execution_count": 19,
   "metadata": {
    "collapsed": true
   },
   "outputs": [],
   "source": [
    "# use the provided code to load the Scoring Matrix\n",
    "M = read_scoring_matrix(PAM50_URL)"
   ]
  },
  {
   "cell_type": "code",
   "execution_count": 6,
   "metadata": {
    "collapsed": false
   },
   "outputs": [
    {
     "name": "stdout",
     "output_type": "stream",
     "text": [
      "- {'-': -100, 'A': -5, 'C': -5, 'B': -5, 'E': -5, 'D': -5, 'G': -5, 'F': -5, 'I': -5, 'H': -5, 'K': -5, 'M': -5, 'L': -5, 'N': -5, 'Q': -5, 'P': -5, 'S': -5, 'R': -5, 'T': -5, 'W': -5, 'V': -5, 'Y': -5, 'X': -5, 'Z': -5}\n",
      "\n",
      "A {'-': -5, 'A': 5, 'C': -5, 'B': -2, 'E': -1, 'D': -2, 'G': -1, 'F': -7, 'I': -3, 'H': -5, 'K': -5, 'M': -4, 'L': -5, 'N': -2, 'Q': -3, 'P': 0, 'S': 0, 'R': -5, 'T': 0, 'W': -11, 'V': -1, 'Y': -6, 'X': -2, 'Z': -2}\n",
      "\n",
      "C {'-': -5, 'A': -5, 'C': 9, 'B': -9, 'E': -11, 'D': -11, 'G': -7, 'F': -10, 'I': -5, 'H': -6, 'K': -11, 'M': -11, 'L': -12, 'N': -8, 'Q': -11, 'P': -6, 'S': -2, 'R': -6, 'T': -6, 'W': -13, 'V': -5, 'Y': -3, 'X': -7, 'Z': -11}\n",
      "\n"
     ]
    }
   ],
   "source": [
    "# investigate the first few keys of the loaded scoring matrix\n",
    "keys = M.keys()\n",
    "for key in keys[0:3]:\n",
    "    print key, M[key]\n",
    "    print"
   ]
  },
  {
   "cell_type": "code",
   "execution_count": 7,
   "metadata": {
    "collapsed": true
   },
   "outputs": [],
   "source": [
    "# Create the Dynamic Programming alignment matrix using the compute_alignment_matrix method in the \"student\" file you wrote \n",
    "# for this assignment. Set the flag to False since this will be used to compute the local alignment.\n",
    "S = student.compute_alignment_matrix(human, fly, M, False)"
   ]
  },
  {
   "cell_type": "code",
   "execution_count": 8,
   "metadata": {
    "collapsed": false
   },
   "outputs": [
    {
     "name": "stdout",
     "output_type": "stream",
     "text": [
      "The resulting local alignemnt score is 875.\n",
      "\n",
      "Human local alignment sequence:\n",
      "HSGVNQLGGVFVNGRPLPDSTRQKIVELAHSGARPCDISRILQVSNGCVSKILGRYYETGSIRPRAIGGSKPRVATPEVVSKIAQYKRECPSIFAWEIRDRLLSEGVCTNDNIPSVSSINRVLRNLASEK-QQ\n",
      "\n",
      "Fruitfly local alignment sequence:\n",
      "HSGVNQLGGVFVGGRPLPDSTRQKIVELAHSGARPCDISRILQVSNGCVSKILGRYYETGSIRPRAIGGSKPRVATAEVVSKISQYKRECPSIFAWEIRDRLLQENVCTNDNIPSVSSINRVLRNLAAQKEQQ\n"
     ]
    }
   ],
   "source": [
    "# Calculate the local alignment score as well as the local alignments for the human and fruitfly proteins \n",
    "score1, human_local1, fly_local1 = student.compute_local_alignment(human, fly, M, S)\n",
    "print \"The resulting local alignemnt score is {}.\".format(score1)\n",
    "print\n",
    "print \"Human local alignment sequence:\"\n",
    "print human_local1\n",
    "print\n",
    "print \"Fruitfly local alignment sequence:\"\n",
    "print fly_local1"
   ]
  },
  {
   "cell_type": "markdown",
   "metadata": {},
   "source": [
    "###Question 2 (2 pts)\n",
    "\n",
    "To continue our investigation, we next consider the similarity of the two sequences in the local alignment computed in Question 1 to a third sequence. The file ConsensusPAXDomain contains a \"consensus\" sequence of the PAX domain; that is, the sequence of amino acids in the PAX domain in any organism. In this problem, we will compare each of the two sequences of the local alignment computed in Question 1 to this consensus sequence to determine whether they correspond to the PAX domain.\n",
    "\n",
    "Load the file ConsensusPAXDomain. For each of the two sequences of the local alignment computed in Question 1, do the following:\n",
    "\n",
    "- Delete any dashes '-' present in the sequence.\n",
    "- Compute the global alignment of this dash-less sequence with the ConsensusPAXDomain sequence.\n",
    "- Compare corresponding elements of these two globally-aligned sequences (local vs. consensus) and compute the percentage of elements in these two sequences that agree.\n",
    "\n",
    "To reiterate, you will compute the global alignments of local human vs. consensus PAX domain as well as local fruitfly vs. consensus PAX domain. Your answer should be two percentages: one for each global alignment. Enter each percentage below. Be sure to label each answer clearly and include three significant digits of precision.\n",
    "\n"
   ]
  },
  {
   "cell_type": "code",
   "execution_count": 9,
   "metadata": {
    "collapsed": true
   },
   "outputs": [],
   "source": [
    "# use the provided code to load the CONCENSUS PAX DOMAIN protein\n",
    "pax = read_protein(CONSENSUS_PAX_URL)"
   ]
  },
  {
   "cell_type": "code",
   "execution_count": 10,
   "metadata": {
    "collapsed": true
   },
   "outputs": [],
   "source": [
    "# Remove the Dashes from the Human and Fly local pair alignments\n",
    "human_local2 = \"\".join([letter for letter in human_local1 if letter != \"-\"])\n",
    "fly_local2  = \"\".join([letter for letter in fly_local1 if letter != \"-\"])"
   ]
  },
  {
   "cell_type": "code",
   "execution_count": 11,
   "metadata": {
    "collapsed": true
   },
   "outputs": [],
   "source": [
    "# Compute the global alignment of this dash-less sequence with the ConsensusPAXDomain sequence.\n",
    "# First compute the global alignment of the dash-less human sequence with the pax protein\n",
    "score2_human, human_global1, pax_global1 = student.compute_global_alignment(human_local2, pax, M, S)"
   ]
  },
  {
   "cell_type": "code",
   "execution_count": 12,
   "metadata": {
    "collapsed": true
   },
   "outputs": [],
   "source": [
    "# Next compute the global alignment of the dash-less human sequence with the pax protein\n",
    "score2_fly, fly_global1, pax_global2  = student.compute_global_alignment(fly_local2, pax, M, S)"
   ]
  },
  {
   "cell_type": "code",
   "execution_count": 13,
   "metadata": {
    "collapsed": false
   },
   "outputs": [
    {
     "name": "stdout",
     "output_type": "stream",
     "text": [
      "1 element(s) align between the two sequences.\n",
      "Out of a total of 252 elements only 0.395% of elements agree beteween the Human Global and PAX Global sequences.\n"
     ]
    }
   ],
   "source": [
    "# Compute the percentage of elements that agree between the Human and Pax Global sequences\n",
    "hp_counter = 0\n",
    "for idx in range(len(pax_global1)):\n",
    "    if human_global1[idx] == pax_global1[idx]:\n",
    "        hp_counter += 1\n",
    "hp_ans = (float(hp_counter) / len(human_global1)) * 100\n",
    "print \"{} element(s) align between the two sequences.\".format(hp_counter)\n",
    "print \"Out of a total of {} elements only {}% of elements agree beteween the Human Global and PAX Global sequences.\".format(idx,round(hp_ans,3))"
   ]
  },
  {
   "cell_type": "code",
   "execution_count": 14,
   "metadata": {
    "collapsed": false
   },
   "outputs": [
    {
     "name": "stdout",
     "output_type": "stream",
     "text": [
      "1 element(s) align between the two sequences.\n",
      "Out of a total of 253 elements only 0.394% of elements agree beteween the Human Global and PAX Global sequences.\n"
     ]
    }
   ],
   "source": [
    "# Compute the percentage of elements that agree between the Fly and Pax Global sequences\n",
    "fp_counter = 0\n",
    "for idx in range(len(fly_global1)):\n",
    "    if fly_global1[idx] == pax_global2[idx]:\n",
    "        fp_counter += 1\n",
    "fp_ans = (float(fp_counter) / len(fly_global1)) * 100\n",
    "print \"{} element(s) align between the two sequences.\".format(fp_counter)\n",
    "print \"Out of a total of {} elements only {}% of elements agree beteween the Human Global and PAX Global sequences.\".format(idx,round(fp_ans,3))"
   ]
  },
  {
   "cell_type": "markdown",
   "metadata": {},
   "source": [
    "###Question 3 (1 pt)\n",
    "\n",
    "Examine your answers to Questions 1 and 2. Is it likely that the level of similarity exhibited by the answers could have been due to chance? In particular, if you were comparing two random sequences of amino acids of length similar to that of HumanEyelessProtein and FruitflyEyelessProtein, would the level of agreement in these answers be likely? To help you in your analysis, there are 23 amino acids with symbols in the string (\"𝙰𝙲𝙱𝙴𝙳𝙶𝙵𝙸𝙷𝙺𝙼𝙻𝙽𝚀𝙿𝚂𝚁𝚃𝚆𝚅𝚈𝚇𝚉\"). \n",
    "\n",
    "Include a short justification for your answer."
   ]
  },
  {
   "cell_type": "markdown",
   "metadata": {},
   "source": [
    "** It is entirely possible that this 0.395% similarity is due to chance.  This can be determined by looking at what the probabilty would be for two elements to align at random.  For example, given that there are 23 elements, there is a one in 23 chance (~4%) that at any two elements in each of the two sequences will align at random.  The global fly sequence is 254 letters along and the global human sequence is 253 letters long.  In each case, given a 4% probablity of matching letters with the global pax concensus alignment, there should be approximately 10 or 11 letters that match in each case (.04 x 254 ~ 10).  However, the two sequences we computed only have one letter each that match the corresponding Global Pax Alignment.  For this reason, it is quite possible - even likely - that the observed similarity  is due to chance **"
   ]
  },
  {
   "cell_type": "markdown",
   "metadata": {},
   "source": [
    "###Hypothesis testing\n",
    "\n",
    "One weakness of our approach in Question 3 was that we assumed that the probability of any particular amino acid appearing at a particular location in a protein was equal. In the next two questions, we will consider a more mathematical approach to answering Question 3 that avoids this assumption. In particular, we will take an approach known as statistical hypothesis testing to determine whether the local alignments computed in Question 1 are statistically significant (that is, that the probability that they could have arisen by chance is extremely small).\n",
    "\n"
   ]
  },
  {
   "cell_type": "markdown",
   "metadata": {},
   "source": [
    "###Question 4 (2 pts)\n",
    "\n",
    "** Write a function *generate_null_distribution(seq_x, seq_y, scoring_matrix, num_trials)* that takes as input: **\n",
    "\n",
    "1. two sequences 𝚜𝚎𝚚_𝚡 and 𝚜𝚎𝚚_𝚢, \n",
    "\n",
    "2. a scoring matrix 𝚜𝚌𝚘𝚛𝚒𝚗𝚐_𝚖𝚊𝚝𝚛𝚒𝚡,\n",
    "\n",
    "3. a number of trials 𝚗𝚞𝚖_𝚝𝚛𝚒𝚊𝚕𝚜. \n",
    "\n",
    "4. This function should return a dictionary 𝚜𝚌𝚘𝚛𝚒𝚗𝚐_𝚍𝚒𝚜𝚝𝚛𝚒𝚋𝚞𝚝𝚒𝚘𝚗 that represents an un-normalized distribution generated by performing the following process 𝚗𝚞𝚖_𝚝𝚛𝚒𝚊𝚕𝚜 times:\n",
    "\n",
    "** Perform the following:**\n",
    "- Generate a random permutation 𝚛𝚊𝚗𝚍_y of the sequence 𝚜𝚎𝚚_𝚢 using 𝚛𝚊𝚗𝚍𝚘𝚖.𝚜ample().\n",
    "- Compute the maximum value 𝚜𝚌𝚘𝚛𝚎 for the local alignment of 𝚜𝚎𝚚_𝚡 and randy using the score matrix 𝚜𝚌𝚘𝚛𝚒𝚗𝚐_𝚖𝚊𝚝𝚛𝚒𝚡.\n",
    "- Increment the entry 𝚜𝚌𝚘𝚛𝚎 in the dictionary 𝚜𝚌𝚘𝚛𝚒𝚗𝚐_𝚍𝚒𝚜𝚝𝚛𝚒𝚋𝚞𝚝𝚒𝚘𝚗 by one.\n",
    "\n",
    "Use the function 𝚐𝚎𝚗𝚎𝚛𝚊𝚝𝚎_𝚗𝚞𝚕𝚕_𝚍𝚒𝚜𝚝𝚛𝚒𝚋𝚞𝚝𝚒𝚘𝚗 to create a distribution with 1000 trials using the protein sequences HumanEyelessProtein and FruitflyEyelessProtein (using the PAM50 scoring matrix). Important: Use HumanEyelessProtein as the first parameter 𝚜𝚎𝚚_𝚡 (which stays fixed) and FruitflyEyelessProtein as the second parameter 𝚜𝚎𝚚_𝚢 (which is randomly shuffled) when calling 𝚐𝚎𝚗𝚎𝚛𝚊𝚝𝚎_𝚗𝚞𝚕𝚕_𝚍𝚒𝚜𝚝𝚛𝚒𝚋𝚞𝚝𝚒𝚘𝚗. Switching the order of these two parameters will lead to a slightly different answers for question 5 that may lie outside the accepted ranges for correct answers.\n",
    "\n",
    "Next, create a bar plot of the normalized version of this distribution using 𝚙𝚕𝚝.𝚋𝚊𝚛 in 𝚖𝚊𝚝𝚙𝚕𝚘𝚝𝚕𝚒𝚋 (or your favorite plotting tool). (You will probably find CodeSkulptor too slow to do the required number of trials.) The horizontal axis should be the scores and the vertical axis should be the fraction of total trials corresponding to each score. As usual, choose reasonable labels for the axes and title. Note: You may wish to save the distribution that you compute in this Question for later use in Question 5.\n",
    "\n",
    "Once you have created your bar plot, upload your plot in the peer assessment. Please review the class guidelines for formatting and comparing plots on the \"Creating, formatting, and comparing plots\" class page. These guidelines cover the basics of good formatting practices for plots. Your plot will be assessed based on the answers to the following two questions:\n",
    "\n",
    "Does the plot follow the formatting guidelines for plots?\n",
    "Is the shape of the plot correct?"
   ]
  },
  {
   "cell_type": "code",
   "execution_count": 15,
   "metadata": {
    "collapsed": true
   },
   "outputs": [],
   "source": [
    "# write a function that returns a dictionary 𝚜𝚌𝚘𝚛𝚒𝚗𝚐𝚍𝚒𝚜𝚝𝚛𝚒𝚋𝚞𝚝𝚒𝚘𝚗 that represents an un-normalized distribution \n",
    "# generated by performing the following process 𝚗𝚞𝚖𝚝𝚛𝚒𝚊𝚕𝚜 times:\n",
    "def generate_null_distribution(seq_x, seq_y, scoring_matrix, num_trials):\n",
    "    scoring_distribution = {}\n",
    "    for trial in range(num_trials):\n",
    "        rand_y = \"\".join(random.sample(seq_y, len(seq_y)))\n",
    "        _S_ = student.compute_alignment_matrix(seq_x, rand_y, scoring_matrix, 0)\n",
    "        max_score = 0\n",
    "        for _row_idx in range(len((_S_))-1,0,-1):\n",
    "            current_score = max(_S_[_row_idx])\n",
    "            if current_score > max_score:\n",
    "                max_score = current_score\n",
    "        scoring_distribution[max_score] = scoring_distribution.get(max_score,0) + 1\n",
    "    return scoring_distribution"
   ]
  },
  {
   "cell_type": "code",
   "execution_count": 16,
   "metadata": {
    "collapsed": true
   },
   "outputs": [],
   "source": [
    "# Use the function 𝚐𝚎𝚗𝚎𝚛𝚊𝚝𝚎_𝚗𝚞𝚕𝚕_𝚍𝚒𝚜𝚝𝚛𝚒𝚋𝚞𝚝𝚒𝚘𝚗 to create a distribution with 1000 trials \n",
    "# using the protein sequences HumanEyelessProtein and FruitflyEyelessProtein (using the PAM50 scoring matrix)\n",
    "score_dist = generate_null_distribution(human,fly, M, 1000)"
   ]
  },
  {
   "cell_type": "code",
   "execution_count": 17,
   "metadata": {
    "collapsed": true
   },
   "outputs": [],
   "source": [
    "scores = score_dist.keys()\n",
    "norm_count = [each/1000. for each in score_dist.values()]"
   ]
  },
  {
   "cell_type": "code",
   "execution_count": 20,
   "metadata": {
    "collapsed": true
   },
   "outputs": [],
   "source": [
    "# display the plot inside the ipython notebook\n",
    "%matplotlib inline"
   ]
  },
  {
   "cell_type": "code",
   "execution_count": 21,
   "metadata": {
    "collapsed": false
   },
   "outputs": [
    {
     "data": {
      "image/png": "[encoded data removed]",
      "text/plain": [
       "<matplotlib.figure.Figure at 0x10df240d0>"
      ]
     },
     "metadata": {},
     "output_type": "display_data"
    }
   ],
   "source": [
    "# create a bar plot of the normalized version of this distribution using 𝚙𝚕𝚝.𝚋𝚊𝚛 in 𝚖𝚊𝚝𝚙𝚕𝚘𝚝𝚕𝚒𝚋\n",
    "fig = plt.figure(figsize=(25,10))\n",
    "ax = fig.add_subplot(111)\n",
    "\n",
    "## the data\n",
    "N = len(scores)\n",
    "x_axis_scores = score_dist.keys()\n",
    "y_axis_trial_fract = [number/1000. for number in score_dist.values()]\n",
    "\n",
    "## necessary variables\n",
    "ind = np.arange(N)                # the x locations for the groups\n",
    "width = 0.40                      # the width of the bars\n",
    "\n",
    "## the bars\n",
    "#ax.bar(ind, y_axis_trial_fract, width,\n",
    "#                color='green')\n",
    "ax.bar(ind, norm_count, width,\n",
    "                color='green')\n",
    "\n",
    "# axes and labels\n",
    "ax.set_xlim(-width,len(ind)+width)\n",
    "ax.set_ylim(0,0.08,)\n",
    "ax.set_xlabel('Max Score')\n",
    "ax.set_ylabel(\"Fraction of Total Trials \")\n",
    "ax.set_title('Normalized Null Distribution of HumanEyelessProtein and Random FlyEyelessProtein Local Sequence Alignments')\n",
    "#xTickMarks = x_axis_scores\n",
    "xTickMarks = scores\n",
    "ax.set_xticks(ind+width)\n",
    "xtickNames = ax.set_xticklabels(xTickMarks)\n",
    "\n",
    "#yTickMark\n",
    "#ax.set_yticks()\n",
    "plt.setp(xtickNames, rotation=45, fontsize=10)\n",
    "\n",
    "\n",
    "## add a legend\n",
    "#ax.legend( (rects1[0], rects2[0]), ('Men', 'Women') )\n",
    "\n",
    "plt.show()"
   ]
  },
  {
   "cell_type": "markdown",
   "metadata": {},
   "source": [
    "###Question 5 (2 pts)\n",
    "\n",
    "Given the distribution computed in Question 4, we can do some very basic statistical analysis of this distribution to help us understand how likely the local alignment score from Question 1 is. To this end, we first compute the mean μ and the standard deviation σ of this distribution via:\n",
    "\n",
    "$$μ=\\frac{1}n\\sum_{n=i}s_i$$\n",
    "\n",
    "$$σ= \\sqrt{\\frac{1}n\\sum_{n=i}(s_i−μ)^2}$$\n",
    "\n",
    "\n",
    "where the values si are the scores returned by the n trials. If s is the score of the local alignment for the human eyeless protein and the fruitfly eyeless protein, the z-score z for this alignment is\n",
    "\n",
    "$$z=\\frac{s−μ}σ$$\n",
    "\n",
    "The z-score helps quantify the likelihood of the score s being a product of chance. Small z-scores indicate a greater likelihood that the local alignment score was due to chance while larger scores indicate a lower likelihood that the local alignment score was due to chance.\n",
    "\n",
    "- What are the mean and standard deviation for the distribution that you computed in Question 4?\n",
    "- What is the z-score for the local alignment for the human eyeless protein vs. the fruitfly eyeless protein based on these values?"
   ]
  },
  {
   "cell_type": "code",
   "execution_count": 22,
   "metadata": {
    "collapsed": false
   },
   "outputs": [
    {
     "name": "stdout",
     "output_type": "stream",
     "text": [
      "The randomly generated distribution has a mean = 51.574.\n"
     ]
    }
   ],
   "source": [
    "# Calcuate the Mean\n",
    "def calculate_mean(distro):\n",
    "        return sum([score * count for score,count in distro.items()])/float(sum(distro.values()))\n",
    "print \"The randomly generated distribution has a mean = {}.\".format(calculate_mean(score_dist))"
   ]
  },
  {
   "cell_type": "code",
   "execution_count": 23,
   "metadata": {
    "collapsed": false
   },
   "outputs": [
    {
     "name": "stdout",
     "output_type": "stream",
     "text": [
      "For this distribution, the corresponding standard deviation = 7.01274012067.\n"
     ]
    }
   ],
   "source": [
    "# Calculate the Standard Deviation\n",
    "mean = calculate_mean(score_dist)\n",
    "def calculate_std_dev(distro,ave):\n",
    "    return (sum([(((score - ave)**2) * count) for score,count in distro.items()])/float(sum(distro.values())))**0.5\n",
    "print \"For this distribution, the corresponding standard deviation = {}.\".format(calculate_std_dev(score_dist,mean))"
   ]
  },
  {
   "cell_type": "code",
   "execution_count": 24,
   "metadata": {
    "collapsed": false
   },
   "outputs": [
    {
     "name": "stdout",
     "output_type": "stream",
     "text": [
      "The local alignment score for the human and fruitly protein has a Z score = 117.418581871.\n"
     ]
    }
   ],
   "source": [
    "# Calculate the z-score\n",
    "std = calculate_std_dev(score_dist,mean)\n",
    "def calculate_z_score(local_score,mean,std_dev):\n",
    "    return (local_score-mean)/std_dev\n",
    "print \"The local alignment score for the human and fruitly protein has a Z score = {}.\".format(calculate_z_score(score1,mean,std))"
   ]
  },
  {
   "cell_type": "markdown",
   "metadata": {},
   "source": [
    "###Question 6 (1 pt)\n",
    "\n",
    "For bell-shaped distributions such as the normal distribution, the likelihood that an observation will fall within three multiples of the standard deviation for such distributions is very high.\n",
    "\n",
    "Based on your answers to Questions 4 and 5, is the score resulting from the local alignment of the HumanEyelessProtein and the FruitflyEyelessProtein due to chance? As a concrete question, which is more likely: the similarity between the human eyeless protein and the fruitfly eyeless protein being due to chance or winning the jackpot in an extremely large lottery? Provide a short explanation for your answers."
   ]
  },
  {
   "cell_type": "code",
   "execution_count": 25,
   "metadata": {
    "collapsed": false
   },
   "outputs": [
    {
     "name": "stdout",
     "output_type": "stream",
     "text": [
      "The z-score corresponding to the probablity of winning the Spanish lottery = 4.26488856114.\n"
     ]
    }
   ],
   "source": [
    "# calculate the z-score that corresponds to the probability of winning the Spanish lottery\n",
    "# this can be determined by obtaining the z-score the corresponds to the area of the curve covered by the 99,998 lottery \n",
    "# players who don't win.\n",
    "from scipy.stats import norm\n",
    "print \"The z-score corresponding to the probablity of winning the Spanish lottery = {}.\".format(norm.ppf(1-1./99999))"
   ]
  },
  {
   "cell_type": "markdown",
   "metadata": {},
   "source": [
    "** The Z-score resulting from the local alignment of the HumanEyelessProtein and the FruitflyEyelessProtein is 117  standard deviations above the mean.  Given that 99.7% of all observations fall within just +/- 3 standard deviations of the mean, the statistical likelihood that the local alignment score of the two proteins being due to chance is virtually zero.**\n",
    "\n",
    "** As a point of reference, the likelihood of winning the lottery is far more likely than the simiarlity between the human eyeless protein and the fruitfly eyeless protein being due to chance.  For example, the odds of winning the Spanish Christmas Lottery are 1 in 99,999.  Even this extremely low likelihood results in a Z-score of about 4.26.  Again, given that the local protein alignments for Human and Fruitfly have a Z-Score of 117 indicates there is virtually zero probablity the score is due to chance. **"
   ]
  },
  {
   "cell_type": "markdown",
   "metadata": {},
   "source": [
    "###Spelling correction\n",
    "\n",
    "Up to now, we have measured the similarity of two strings. In other applications, measuring the dissimilarity of two sequences is also useful. Given two strings, the edit distance corresponds to the minimum number of single character insertions, deletions, and substitutions that are needed to transform one string into another. In particular, if x and y are strings and a and b are characters, these edit operations have the form:\n",
    "\n",
    "- Insert - Replace the string x+y by the string x+a+y.\n",
    "- Delete - Replace the string x+a+y by the string x+y.\n",
    "- Substitute - Replace the string x+a+y by the string x+b+y,"
   ]
  },
  {
   "cell_type": "markdown",
   "metadata": {},
   "source": [
    "###Question 7 (3 pts)\n",
    "\n",
    "Not surprisingly, similarity between pairs of sequences and edit distances between pairs of strings are related. In particular, the edit distance for two strings x and y can be expressed in terms of the lengths of the two strings and their corresponding similarity score as follows:|x|+|y|−score(x,y) where score(x,y) is the score returned by the global alignment of these two strings using a very simple scoring matrix that can be computed using 𝚋𝚞𝚒𝚕𝚍_𝚜𝚌𝚘𝚛𝚒𝚗𝚐_𝚖𝚊𝚝𝚛𝚒𝚡.\n",
    "\n",
    "Determine the values for 𝚍𝚒𝚊𝚐_𝚜𝚌𝚘𝚛𝚎, 𝚘𝚏𝚏_𝚍𝚒𝚊𝚐_𝚜𝚌𝚘𝚛𝚎, and 𝚍𝚊𝚜𝚑_𝚜𝚌𝚘𝚛𝚎 such that the score from the resulting global alignment yields the edit distance when substituted into the formula above. Be sure to indicate which values corresponds to which parameters. Finally, as a side note, be aware that there are alternative formulations of edit distance as a dynamic programming problem using different scoring matrices. For this problem, please restrict your consideration to the formulation used above."
   ]
  },
  {
   "cell_type": "code",
   "execution_count": 29,
   "metadata": {
    "collapsed": false
   },
   "outputs": [
    {
     "name": "stdout",
     "output_type": "stream",
     "text": [
      "Diag_score = 2, offdiag_score = 1 and both dash_scores = 0.\n",
      "Below is the scoring matrix, M, for measuring edit distance between to words.\n"
     ]
    },
    {
     "data": {
      "text/plain": [
       "{'-': {'-': 0, 'A': 0, 'C': 0, 'G': 0, 'T': 0},\n",
       " 'A': {'-': 0, 'A': 2, 'C': 1, 'G': 1, 'T': 1},\n",
       " 'C': {'-': 0, 'A': 1, 'C': 2, 'G': 1, 'T': 1},\n",
       " 'G': {'-': 0, 'A': 1, 'C': 1, 'G': 2, 'T': 1},\n",
       " 'T': {'-': 0, 'A': 1, 'C': 1, 'G': 1, 'T': 2}}"
      ]
     },
     "execution_count": 29,
     "metadata": {},
     "output_type": "execute_result"
    }
   ],
   "source": [
    "# build the scoring matrxi by \n",
    "# 1) setting the diag_score to 2 for a match\n",
    "# 2) setting the off_diag_score to 1 for a mismatch\n",
    "# 3) setting the dash_score to 0 for all instances where a letter and a dash align\n",
    "letters = set([\"A\",\"C\",\"T\",\"G\"])\n",
    "diag_score = 2\n",
    "off_diag_score = 1\n",
    "dash_score = 0\n",
    "print \"Diag_score = {}, offdiag_score = {} and both dash_scores = {}.\".format(match, mismatch, dash_letter, letter_dash)\n",
    "print \"Below is the scoring matrix, M, for measuring edit distance between to words.\"\n",
    "student.build_scoring_matrix(letters, diag_score,off_diag_score,dash_score)"
   ]
  },
  {
   "cell_type": "markdown",
   "metadata": {},
   "source": [
    "###Question 8 (2 pts)\n",
    "\n",
    "In practice, edit distance is a useful tool in applications such as spelling correction and plagiarism detection where determining whether two strings are similar/dissimilar is important. For this final question, we will implement a simple spelling correction function that uses edit distance to determine whether a given string is the misspelling of a word.\n",
    "\n",
    "To begin, load this list of 79339 words. Then, write a function 𝚌𝚑𝚎𝚌𝚔_𝚜𝚙𝚎𝚕𝚕𝚒𝚗𝚐(𝚌𝚑𝚎𝚌𝚔𝚎𝚍_𝚠𝚘𝚛𝚍, 𝚍𝚒𝚜𝚝, 𝚠𝚘𝚛𝚍_𝚕𝚒𝚜𝚝) that iterates through 𝚠𝚘𝚛𝚍_𝚕𝚒𝚜𝚝 and returns the set of all words that are within edit distance 𝚍𝚒𝚜𝚝 of the string 𝚌𝚑𝚎𝚌𝚔𝚎𝚍_𝚠𝚘𝚛𝚍.\n",
    "\n",
    "** Use your function 𝚌𝚑𝚎𝚌𝚔_𝚜𝚙𝚎𝚕𝚕𝚒𝚗𝚐 to compute the set of words within an edit distance of one from the string \"𝚑𝚞𝚖𝚋𝚕𝚎\" and the set of words within an edit distance of two from the string \"𝚏𝚒𝚛𝚎𝚏𝚕𝚢\". (Note this is not \"𝚏𝚛𝚞𝚒𝚝𝚏𝚕𝚢\".) **\n",
    "\n",
    "Enter these two sets of words in the box below. As quick check, both sets should include eleven words."
   ]
  },
  {
   "cell_type": "code",
   "execution_count": 30,
   "metadata": {
    "collapsed": false
   },
   "outputs": [
    {
     "name": "stdout",
     "output_type": "stream",
     "text": [
      "zyzzyvas\n"
     ]
    }
   ],
   "source": [
    "# load the word list at the provided URL and check first 10 entries to ensure that loaded properly\n",
    "words = urllib2.urlopen(WORD_LIST_URL).read().splitlines()\n",
    "print words[-1]"
   ]
  },
  {
   "cell_type": "code",
   "execution_count": 31,
   "metadata": {
    "collapsed": false
   },
   "outputs": [],
   "source": [
    "# create the set of letters to be included in the alphabet to check the edit distance between the words\n",
    "alphabet = set(string.letters[26:])"
   ]
  },
  {
   "cell_type": "code",
   "execution_count": 33,
   "metadata": {
    "collapsed": false
   },
   "outputs": [],
   "source": [
    "# create the function find words in a list that are within a certain edit distance of a pre-determined word\n",
    "_M_ = student.build_scoring_matrix(alphabet,2,1,0)\n",
    "def check_spelling(checked_word,edit_dist,word_list):\n",
    "    x_len = len(checked_word)\n",
    "    words_within_distance = []\n",
    "    for word in word_list:\n",
    "        _S_ = student.compute_alignment_matrix(checked_word,word,_M_,True)\n",
    "        ans = student.compute_global_alignment(checked_word,word,_M_,_S_)\n",
    "        temp_dist = x_len + len(word) - ans[0] \n",
    "        if temp_dist <= edit_dist:\n",
    "            words_within_distance.append(word)\n",
    "    return set(words_within_distance)"
   ]
  },
  {
   "cell_type": "code",
   "execution_count": 34,
   "metadata": {
    "collapsed": false
   },
   "outputs": [
    {
     "data": {
      "text/plain": [
       "{'bumble',\n",
       " 'fumble',\n",
       " 'humble',\n",
       " 'humbled',\n",
       " 'humbler',\n",
       " 'humbles',\n",
       " 'humbly',\n",
       " 'jumble',\n",
       " 'mumble',\n",
       " 'rumble',\n",
       " 'tumble'}"
      ]
     },
     "execution_count": 34,
     "metadata": {},
     "output_type": "execute_result"
    }
   ],
   "source": [
    "# Compute the set of words within an edit distance of one from the string \"humble\"\n",
    "humble_words = check_spelling('humble',1,words)\n",
    "humble_words"
   ]
  },
  {
   "cell_type": "code",
   "execution_count": 35,
   "metadata": {
    "collapsed": false
   },
   "outputs": [
    {
     "data": {
      "text/plain": [
       "{'direly',\n",
       " 'finely',\n",
       " 'fireclay',\n",
       " 'firefly',\n",
       " 'firmly',\n",
       " 'firstly',\n",
       " 'fixedly',\n",
       " 'freely',\n",
       " 'liefly',\n",
       " 'refly',\n",
       " 'tiredly'}"
      ]
     },
     "execution_count": 35,
     "metadata": {},
     "output_type": "execute_result"
    }
   ],
   "source": [
    "# Compute the set of words within an edit distance of two from the string \"firefly\"\n",
    "firefly_words = check_spelling('firefly',2,words)\n",
    "firefly_words"
   ]
  },
  {
   "cell_type": "code",
   "execution_count": null,
   "metadata": {
    "collapsed": true
   },
   "outputs": [],
   "source": []
  }
 ],
 "metadata": {
  "kernelspec": {
   "display_name": "Python 2",
   "language": "python",
   "name": "python2"
  },
  "language_info": {
   "codemirror_mode": {
    "name": "ipython",
    "version": 2
   },
   "file_extension": ".py",
   "mimetype": "text/x-python",
   "name": "python",
   "nbconvert_exporter": "python",
   "pygments_lexer": "ipython2",
   "version": "2.7.13"
  }
 },
 "nbformat": 4,
 "nbformat_minor": 0
}
