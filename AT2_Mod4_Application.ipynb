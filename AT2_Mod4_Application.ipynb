{
 "cells": [
  {
   "cell_type": "code",
   "execution_count": 1,
   "metadata": {
    "collapsed": true
   },
   "outputs": [],
   "source": [
    "import math\n",
    "import random\n",
    "import urllib2\n",
    "import warnings\n",
    "warnings.filterwarnings('ignore')\n",
    "import AT2_DP as student"
   ]
  },
  {
   "cell_type": "code",
   "execution_count": 2,
   "metadata": {
    "collapsed": false
   },
   "outputs": [],
   "source": [
    "import matplotlib.pyplot as plt\n",
    "#import alg_project4_solution as student"
   ]
  },
  {
   "cell_type": "code",
   "execution_count": 3,
   "metadata": {
    "collapsed": true
   },
   "outputs": [],
   "source": [
    "# URLs for data files\n",
    "PAM50_URL = \"http://storage.googleapis.com/codeskulptor-alg/alg_PAM50.txt\"\n",
    "HUMAN_EYELESS_URL = \"http://storage.googleapis.com/codeskulptor-alg/alg_HumanEyelessProtein.txt\"\n",
    "FRUITFLY_EYELESS_URL = \"http://storage.googleapis.com/codeskulptor-alg/alg_FruitflyEyelessProtein.txt\"\n",
    "CONSENSUS_PAX_URL = \"http://storage.googleapis.com/codeskulptor-alg/alg_ConsensusPAXDomain.txt\"\n",
    "WORD_LIST_URL = \"http://storage.googleapis.com/codeskulptor-assets/assets_scrabble_words3.txt\""
   ]
  },
  {
   "cell_type": "code",
   "execution_count": 4,
   "metadata": {
    "collapsed": true
   },
   "outputs": [],
   "source": [
    "def read_scoring_matrix(filename):\n",
    "    \"\"\"\n",
    "    Read a scoring matrix from the file named filename.  \n",
    "\n",
    "    Argument:\n",
    "    filename -- name of file containing a scoring matrix\n",
    "\n",
    "    Returns:\n",
    "    A dictionary of dictionaries mapping X and Y characters to scores\n",
    "    \"\"\"\n",
    "    scoring_dict = {}\n",
    "    scoring_file = urllib2.urlopen(filename)\n",
    "    ykeys = scoring_file.readline()\n",
    "    ykeychars = ykeys.split()\n",
    "    for line in scoring_file.readlines():\n",
    "        vals = line.split()\n",
    "        xkey = vals.pop(0)\n",
    "        scoring_dict[xkey] = {}\n",
    "        for ykey, val in zip(ykeychars, vals):\n",
    "            scoring_dict[xkey][ykey] = int(val)\n",
    "    return scoring_dict"
   ]
  },
  {
   "cell_type": "code",
   "execution_count": 5,
   "metadata": {
    "collapsed": true
   },
   "outputs": [],
   "source": [
    "def read_protein(filename):\n",
    "    \"\"\"\n",
    "    Read a protein sequence from the file named filename.\n",
    "\n",
    "    Arguments:\n",
    "    filename -- name of file containing a protein sequence\n",
    "\n",
    "    Returns:\n",
    "    A string representing the protein\n",
    "    \"\"\"\n",
    "    protein_file = urllib2.urlopen(filename)\n",
    "    protein_seq = protein_file.read()\n",
    "    protein_seq = protein_seq.rstrip()\n",
    "    return protein_seq"
   ]
  },
  {
   "cell_type": "code",
   "execution_count": 6,
   "metadata": {
    "collapsed": true
   },
   "outputs": [],
   "source": [
    "def read_words(filename):\n",
    "    \"\"\"\n",
    "    Load word list from the file named filename.\n",
    "\n",
    "    Returns a list of strings.\n",
    "    \"\"\"\n",
    "    # load assets\n",
    "    word_file = urllib2.urlopen(filename)\n",
    "    \n",
    "    # read in files as string\n",
    "    words = word_file.read()\n",
    "    \n",
    "    # template lines and solution lines list of line string\n",
    "    word_list = words.split('\\n')\n",
    "    print \"Loaded a dictionary with\", len(word_list), \"words\"\n",
    "    return word_list"
   ]
  },
  {
   "cell_type": "markdown",
   "metadata": {},
   "source": [
    "### Question 1 - Part 1\n",
    "First, load the files HumanEyelessProtein and FruitflyEyelessProtein using the provided code. These files contain the amino acid sequences that form the eyeless proteins in the human and fruit fly genomes, respectively. Then load the scoring matrix PAM50 for sequences of amino acids. This scoring matrix is defined over the alphabet {𝙰,𝚁,𝙽,𝙳,𝙲,𝚀,𝙴,𝙶,𝙷,𝙸,𝙻,𝙺,𝙼,𝙵,𝙿,𝚂,𝚃,𝚆,𝚈,𝚅,𝙱,𝚉,𝚇,-} which represents all possible amino acids and gaps (the \"dashes\" in the alignment)."
   ]
  },
  {
   "cell_type": "markdown",
   "metadata": {},
   "source": [
    "**Read in the HumanEyeless and the Fruitfly Eyeless Proteins**"
   ]
  },
  {
   "cell_type": "code",
   "execution_count": 169,
   "metadata": {
    "collapsed": true
   },
   "outputs": [],
   "source": [
    "# use the provided code to load the proteins into the respective variables\n",
    "human = read_protein(HUMAN_EYELESS_URL)\n",
    "fly = read_protein(FRUITFLY_EYELESS_URL)"
   ]
  },
  {
   "cell_type": "code",
   "execution_count": 170,
   "metadata": {
    "collapsed": false
   },
   "outputs": [
    {
     "name": "stdout",
     "output_type": "stream",
     "text": [
      "Human 422\n",
      "  Fly 857\n"
     ]
    }
   ],
   "source": [
    "# View the first 50 and last 50 characters in each of the sequences\n",
    "print \"Human\", len(human)\n",
    "print \"  Fly\", len(fly)"
   ]
  },
  {
   "cell_type": "markdown",
   "metadata": {},
   "source": [
    "**Read in the Scoring Matrix PAM50 for the sequence of amino acids**"
   ]
  },
  {
   "cell_type": "code",
   "execution_count": 171,
   "metadata": {
    "collapsed": true
   },
   "outputs": [],
   "source": [
    "# use the provided code to load the Scoring Matrix\n",
    "M = read_scoring_matrix(PAM50_URL)"
   ]
  },
  {
   "cell_type": "code",
   "execution_count": 10,
   "metadata": {
    "collapsed": false
   },
   "outputs": [
    {
     "name": "stdout",
     "output_type": "stream",
     "text": [
      "- {'-': -100, 'A': -5, 'C': -5, 'B': -5, 'E': -5, 'D': -5, 'G': -5, 'F': -5, 'I': -5, 'H': -5, 'K': -5, 'M': -5, 'L': -5, 'N': -5, 'Q': -5, 'P': -5, 'S': -5, 'R': -5, 'T': -5, 'W': -5, 'V': -5, 'Y': -5, 'X': -5, 'Z': -5}\n",
      "\n",
      "A {'-': -5, 'A': 5, 'C': -5, 'B': -2, 'E': -1, 'D': -2, 'G': -1, 'F': -7, 'I': -3, 'H': -5, 'K': -5, 'M': -4, 'L': -5, 'N': -2, 'Q': -3, 'P': 0, 'S': 0, 'R': -5, 'T': 0, 'W': -11, 'V': -1, 'Y': -6, 'X': -2, 'Z': -2}\n",
      "\n",
      "C {'-': -5, 'A': -5, 'C': 9, 'B': -9, 'E': -11, 'D': -11, 'G': -7, 'F': -10, 'I': -5, 'H': -6, 'K': -11, 'M': -11, 'L': -12, 'N': -8, 'Q': -11, 'P': -6, 'S': -2, 'R': -6, 'T': -6, 'W': -13, 'V': -5, 'Y': -3, 'X': -7, 'Z': -11}\n",
      "\n"
     ]
    }
   ],
   "source": [
    "# investigate the first few keys of the loaded scoring matrix\n",
    "keys = M.keys()\n",
    "for key in keys[0:3]:\n",
    "    print key, M[key]\n",
    "    print"
   ]
  },
  {
   "cell_type": "markdown",
   "metadata": {},
   "source": [
    "### Question 1 - Part 2\n",
    "\n",
    "Next, compute the local alignments of the sequences of HumanEyelessProtein and FruitflyEyelessProtein using the PAM50 scoring matrix and enter the score and local alignments for these two sequences below. Be sure to clearly distinguish which alignment is which and include any dashes ('-') that might appear in the local alignment. This problem will be assessed according to the following two items:\n",
    "- Is the score of the local alignment correct? (Hint: The sum of the decimal digits in the score is 20.)\n",
    "\n",
    "- Are the two sequences in the local alignments (with dashes included if inserted by the algorithm) clearly distinguished and correct?"
   ]
  },
  {
   "cell_type": "code",
   "execution_count": 11,
   "metadata": {
    "collapsed": true
   },
   "outputs": [],
   "source": [
    "S = student.compute_alignment_matrix(human, fly, M, 0)"
   ]
  },
  {
   "cell_type": "code",
   "execution_count": 12,
   "metadata": {
    "collapsed": false
   },
   "outputs": [],
   "source": [
    "score1, human_local1, fly_local1 = student.compute_local_alignment(human, fly, M, S)"
   ]
  },
  {
   "cell_type": "code",
   "execution_count": 13,
   "metadata": {
    "collapsed": false
   },
   "outputs": [
    {
     "data": {
      "text/plain": [
       "875"
      ]
     },
     "execution_count": 13,
     "metadata": {},
     "output_type": "execute_result"
    }
   ],
   "source": [
    "score1"
   ]
  },
  {
   "cell_type": "code",
   "execution_count": 203,
   "metadata": {
    "collapsed": false
   },
   "outputs": [
    {
     "name": "stdout",
     "output_type": "stream",
     "text": [
      "HSGVNQLGGVFVNGRPLPDSTRQKIVELAHSGARPCDISRILQVSNGCVSKILGRYYETGSIRPRAIGGSKPRVATPEVVSKIAQYKRECPSIFAWEIRDRLLSEGVCTNDNIPSVSSINRVLRNLASEK-QQ\n"
     ]
    }
   ],
   "source": [
    "print human_local1"
   ]
  },
  {
   "cell_type": "code",
   "execution_count": 15,
   "metadata": {
    "collapsed": false
   },
   "outputs": [
    {
     "name": "stdout",
     "output_type": "stream",
     "text": [
      "HSGVNQLGGVFVGGRPLPDSTRQKIVELAHSGARPCDISRILQVSNGCVSKILGRYYETGSIRPRAIGGSKPRVATAEVVSKISQYKRECPSIFAWEIRDRLLQENVCTNDNIPSVSSINRVLRNLAAQKEQQ\n"
     ]
    }
   ],
   "source": [
    "print fly_local1"
   ]
  },
  {
   "cell_type": "markdown",
   "metadata": {},
   "source": [
    "### Question 2 - Part 1\n",
    "To continue our investigation, we next consider the similarity of the two sequences in the local alignment computed in Question 1 to a third sequence. The file ConsensusPAXDomain contains a \"consensus\" sequence of the PAX domain; that is, the sequence of amino acids in the PAX domain in any organism. In this problem, we will compare each of the two sequences of the local alignment computed in Question 1 to this consensus sequence to determine whether they correspond to the PAX domain."
   ]
  },
  {
   "cell_type": "markdown",
   "metadata": {},
   "source": [
    "** Load the file ConsensusPAXDomain **"
   ]
  },
  {
   "cell_type": "code",
   "execution_count": 16,
   "metadata": {
    "collapsed": true
   },
   "outputs": [],
   "source": [
    "# use the provided code to load the CONCENSUS PAX DOMAIN protein\n",
    "pax = read_protein(CONSENSUS_PAX_URL)"
   ]
  },
  {
   "cell_type": "code",
   "execution_count": 17,
   "metadata": {
    "collapsed": false
   },
   "outputs": [
    {
     "name": "stdout",
     "output_type": "stream",
     "text": [
      "GHGGVNQLGGVFVNGRPLPDVVRQRIVELAHQGVRPCDISRQLRVSHGCV\n",
      "\n",
      "ATPKVVEKIAEYKRQNPTMFAWEIRDRLLAERVCDNDTVPSVSSINRIIR\n"
     ]
    }
   ],
   "source": [
    "# read the first and last 50 characaters of con\n",
    "print pax[:50]\n",
    "print\n",
    "print pax[-50:]"
   ]
  },
  {
   "cell_type": "markdown",
   "metadata": {},
   "source": [
    "### Quwestion 2 - Part 2\n",
    "For each of the two sequences of the local alignment computed in Question 1, do the following:\n",
    "\n",
    "1. Delete any dashes '-' present in the sequence.\n",
    "\n",
    "2. Compute the global alignment of this dash-less sequence with the ConsensusPAXDomain sequence.\n",
    "\n",
    "3. Compare corresponding elements of these two globally-aligned sequences (local vs. consensus) and compute the percentage of elements in these two sequences that agree."
   ]
  },
  {
   "cell_type": "markdown",
   "metadata": {},
   "source": [
    "** Remove the Dashes from the Human and Fly local pair alignments in Q1 **"
   ]
  },
  {
   "cell_type": "code",
   "execution_count": 18,
   "metadata": {
    "collapsed": false
   },
   "outputs": [],
   "source": [
    "# use the .join method of a list comprehension \n",
    "human_local2 = \"\".join([letter for letter in human_local1 if letter != \"-\"])"
   ]
  },
  {
   "cell_type": "code",
   "execution_count": 19,
   "metadata": {
    "collapsed": false
   },
   "outputs": [
    {
     "name": "stdout",
     "output_type": "stream",
     "text": [
      "Human\n",
      "Dashes: HSGVNQLGGVFVNGRPLPDSTRQKIVELAHSGARPCDISRILQVSNGCVSKILGRYYETGSIRPRAIGGSKPRVATPEVVSKIAQYKRECPSIFAWEIRDRLLSEGVCTNDNIPSVSSINRVLRNLASEK-QQ\n",
      "\n",
      "No Dashes: HSGVNQLGGVFVNGRPLPDSTRQKIVELAHSGARPCDISRILQVSNGCVSKILGRYYETGSIRPRAIGGSKPRVATPEVVSKIAQYKRECPSIFAWEIRDRLLSEGVCTNDNIPSVSSINRVLRNLASEKQQ\n"
     ]
    }
   ],
   "source": [
    "# look at new dashless local Human alignment \n",
    "print \"Human\"\n",
    "print \"Dashes:\", human_local1\n",
    "print\n",
    "print \"No Dashes:\", human_local2"
   ]
  },
  {
   "cell_type": "code",
   "execution_count": 20,
   "metadata": {
    "collapsed": true
   },
   "outputs": [],
   "source": [
    "# Repeat for the fly protein\n",
    "fly_local2  = \"\".join([letter for letter in fly_local1 if letter != \"-\"])"
   ]
  },
  {
   "cell_type": "code",
   "execution_count": 21,
   "metadata": {
    "collapsed": false
   },
   "outputs": [
    {
     "name": "stdout",
     "output_type": "stream",
     "text": [
      "FLY\n",
      "Dashes: HSGVNQLGGVFVGGRPLPDSTRQKIVELAHSGARPCDISRILQVSNGCVSKILGRYYETGSIRPRAIGGSKPRVATAEVVSKISQYKRECPSIFAWEIRDRLLQENVCTNDNIPSVSSINRVLRNLAAQKEQQ\n",
      "\n",
      "No Dashes: HSGVNQLGGVFVNGRPLPDSTRQKIVELAHSGARPCDISRILQVSNGCVSKILGRYYETGSIRPRAIGGSKPRVATPEVVSKIAQYKRECPSIFAWEIRDRLLSEGVCTNDNIPSVSSINRVLRNLASEKQQ\n",
      "\n"
     ]
    }
   ],
   "source": [
    "# look at new dashless local fly alignment\n",
    "print \"FLY\"\n",
    "print \"Dashes:\", fly_local1\n",
    "print\n",
    "print \"No Dashes:\", human_local2\n",
    "print "
   ]
  },
  {
   "cell_type": "markdown",
   "metadata": {},
   "source": [
    "** Compute the global alignment of this dash-less sequence with the ConsensusPAXDomain sequence **"
   ]
  },
  {
   "cell_type": "code",
   "execution_count": 22,
   "metadata": {
    "collapsed": true
   },
   "outputs": [],
   "source": [
    "# First compute the global alignment of the dash-less human sequence with the pax protein\n",
    "score2_human, human_global1, pax_global1 = student.compute_global_alignment(human_local2, pax, M, S)"
   ]
  },
  {
   "cell_type": "code",
   "execution_count": 23,
   "metadata": {
    "collapsed": false
   },
   "outputs": [
    {
     "name": "stdout",
     "output_type": "stream",
     "text": [
      "{'-': -5, 'A': 5, 'C': -5, 'B': -2, 'E': -1, 'D': -2, 'G': -1, 'F': -7, 'I': -3, 'H': -5, 'K': -5, 'M': -4, 'L': -5, 'N': -2, 'Q': -3, 'P': 0, 'S': 0, 'R': -5, 'T': 0, 'W': -11, 'V': -1, 'Y': -6, 'X': -2, 'Z': -2}\n"
     ]
    }
   ],
   "source": [
    "print M[\"A\"]"
   ]
  },
  {
   "cell_type": "code",
   "execution_count": 24,
   "metadata": {
    "collapsed": false
   },
   "outputs": [
    {
     "data": {
      "text/plain": [
       "181"
      ]
     },
     "execution_count": 24,
     "metadata": {},
     "output_type": "execute_result"
    }
   ],
   "source": [
    "score2_human"
   ]
  },
  {
   "cell_type": "code",
   "execution_count": 25,
   "metadata": {
    "collapsed": false
   },
   "outputs": [
    {
     "name": "stdout",
     "output_type": "stream",
     "text": [
      "Human Global\n",
      "Length: 253\n",
      "------------------------H-S-GV------------------------N-----Q-L-G-G-V-F-V-N-G-R-P-LP-D-S-T-R-Q-K-I-V-E-L-A-H-S-G-AR-P-C-D-I-S-R-I-L-Q-V-S-N-G-C-V-S-K-I-L-G-R-Y-Y-E-T-G-S-I-R-P-R-A-I-G-G-S-K-P-R-VATPEVVSKIAQYKRECPSIFAWEIRDRLLSEGVCTNDNIPSVSSINRVLRNLASEKQQ\n"
     ]
    }
   ],
   "source": [
    "print \"Human Global\"\n",
    "print \"Length:\", len(human_global1)\n",
    "print human_global1"
   ]
  },
  {
   "cell_type": "code",
   "execution_count": 26,
   "metadata": {
    "collapsed": false
   },
   "outputs": [
    {
     "name": "stdout",
     "output_type": "stream",
     "text": [
      "PAX Global 1 - with Human\n",
      "GHGGVNQLGGVFVNGRPLPDVVRQRI-V--ELAHQGVRPCDISRQLRVSHGCVSKILGRY-Y-E-T-G-S-I-K-P-G-V-I--GGS-K-P-K-V-A-T-P-K-V-V-E-K-IA-E-Y-K-R-Q-N-P-T-M-F-A-W-E-I-R-D-R-L-L-A-E-R-V-C-D-N-D-T-V-P-S-V-S-S-I-N-R-I-I-R-----------------------------------------------------------\n"
     ]
    }
   ],
   "source": [
    "print \"PAX Global 1 - with Human\"\n",
    "print pax_global1"
   ]
  },
  {
   "cell_type": "code",
   "execution_count": 27,
   "metadata": {
    "collapsed": true
   },
   "outputs": [],
   "source": [
    "# Next compute the global alignment of the dash-less human sequence with the pax protein\n",
    "score2_fly, fly_global1, pax_global2  = student.compute_global_alignment(fly_local2, pax, M, S)"
   ]
  },
  {
   "cell_type": "code",
   "execution_count": 28,
   "metadata": {
    "collapsed": false
   },
   "outputs": [
    {
     "data": {
      "text/plain": [
       "176"
      ]
     },
     "execution_count": 28,
     "metadata": {},
     "output_type": "execute_result"
    }
   ],
   "source": [
    "score2_fly"
   ]
  },
  {
   "cell_type": "code",
   "execution_count": 29,
   "metadata": {
    "collapsed": false
   },
   "outputs": [
    {
     "name": "stdout",
     "output_type": "stream",
     "text": [
      "Fly Global\n",
      "Length 254\n",
      "-G-AR-P-C-\n",
      "K-IA-E-Y-K\n"
     ]
    }
   ],
   "source": [
    "print \"Fly Global\"\n",
    "print \"Length\", len(fly_global1)\n",
    "print fly_global1[110:120]\n",
    "print pax_global2[110:120]\n"
   ]
  },
  {
   "cell_type": "code",
   "execution_count": 30,
   "metadata": {
    "collapsed": false
   },
   "outputs": [
    {
     "name": "stdout",
     "output_type": "stream",
     "text": [
      "Pax Global2 - with Fly\n",
      "Length: 254\n",
      "GHGGVNQLGGVFVNGRPLPDVVRQRI-V--ELAHQGVRPCDISRQLRVSHGCVSKILGRY-Y-E-T-G-S-I-K-P-G-V-I--GGS-K-P-K-V-A-T-P-K-V-V-E-K-IA-E-Y-K-R-Q-N-P-T-M-F-A-W-E-I-R-D-R-L-L-A-E-R-V-C-D-N-D-T-V-P-S-V-S-S-I-N-R-I-I-R------------------------------------------------------------\n"
     ]
    }
   ],
   "source": [
    "print \"Pax Global2 - with Fly\"\n",
    "print \"Length:\", len(pax_global2)\n",
    "print pax_global2"
   ]
  },
  {
   "cell_type": "markdown",
   "metadata": {},
   "source": [
    "** Compare corresponding elements of these two globally-aligned sequences (local vs. consensus) and compute the percentage of elements in these two sequences that agree. **"
   ]
  },
  {
   "cell_type": "code",
   "execution_count": 31,
   "metadata": {
    "collapsed": false
   },
   "outputs": [
    {
     "data": {
      "text/plain": [
       "20"
      ]
     },
     "execution_count": 31,
     "metadata": {},
     "output_type": "execute_result"
    }
   ],
   "source": [
    "len(list(set(human_global1)))"
   ]
  },
  {
   "cell_type": "code",
   "execution_count": 32,
   "metadata": {
    "collapsed": false
   },
   "outputs": [
    {
     "name": "stdout",
     "output_type": "stream",
     "text": [
      "113\n",
      "1\n",
      "Human Global and PAX Global: Percentage of Elements that agree between \n",
      "0.395256916996%\n"
     ]
    }
   ],
   "source": [
    "# Compute the percentage of elements that agree between the Human and Pax Global sequences\n",
    "hp_counter = 0\n",
    "for idx in range(len(pax_global1)):\n",
    "    if human_global1[idx] == pax_global1[idx]:\n",
    "        hp_counter += 1\n",
    "        print idx\n",
    "print hp_counter\n",
    "hp_ans = (float(hp_counter) / len(human_global1)) * 100\n",
    "print \"Human Global and PAX Global: Percentage of Elements that agree between \"\n",
    "print str(hp_ans) + \"%\""
   ]
  },
  {
   "cell_type": "code",
   "execution_count": 33,
   "metadata": {
    "collapsed": false
   },
   "outputs": [
    {
     "name": "stdout",
     "output_type": "stream",
     "text": [
      "113\n",
      "Counter: 1\n",
      "FLy Global and PAX Global: Percentage of Elements that agree\n",
      "0.393700787402%\n"
     ]
    }
   ],
   "source": [
    "# Compute the percentage of elements that agree between the Fly and Pax Global sequences\n",
    "fp_counter = 0\n",
    "for idx in range(len(fly_global1)):\n",
    "    if fly_global1[idx] == pax_global2[idx]:\n",
    "        print idx\n",
    "        fp_counter += 1\n",
    "print \"Counter:\", fp_counter\n",
    "fp_ans = (float(fp_counter) / len(fly_global1)) * 100\n",
    "print \"FLy Global and PAX Global: Percentage of Elements that agree\"\n",
    "print str(fp_ans) + \"%\""
   ]
  },
  {
   "cell_type": "markdown",
   "metadata": {},
   "source": [
    "### Question 3 - Part 1\n",
    "Examine your answers to Questions 1 and 2. Is it likely that the level of similarity exhibited by the answers could have been due to chance? In particular, if you were comparing two random sequences of amino acids of length similar to that of HumanEyelessProtein and FruitflyEyelessProtein, would the level of agreement in these answers be likely? To help you in your analysis, there are 23 amino acids with symbols in the string (\"𝙰𝙲𝙱𝙴𝙳𝙶𝙵𝙸𝙷𝙺𝙼𝙻𝙽𝚀𝙿𝚂𝚁𝚃𝚆𝚅𝚈𝚇𝚉\"). Include a short justification for your answer."
   ]
  },
  {
   "cell_type": "markdown",
   "metadata": {},
   "source": [
    "**It is possible that the similarity is due to chance.  There is a one in 23 probability (~4%) that at any two elements in each of the two sequences will match.  The global fly sequence is 254 letters along and the global human sequence is 253 letters long.  In each case, given a 4% probablity of matching letters in the global pax concensus alignment, there should be approximately 10 or 11 letters that match in each case.  However, the two sequences we computed only have one each letter each that match the corresponding Global Pax Alignment.  For this reason, it is quite possible, even likely, that the similiartiy observed is due to chance.**"
   ]
  },
  {
   "cell_type": "markdown",
   "metadata": {},
   "source": [
    "### Question 4 - Part 1\n",
    "Write a function 𝚐𝚎𝚗𝚎𝚛𝚊𝚝𝚎_𝚗𝚞𝚕𝚕_𝚍𝚒𝚜𝚝𝚛𝚒𝚋𝚞𝚝𝚒𝚘𝚗(𝚜𝚎𝚚_𝚡, 𝚜𝚎𝚚_𝚢, 𝚜𝚌𝚘𝚛𝚒𝚗𝚐_𝚖𝚊𝚝𝚛𝚒𝚡, 𝚗𝚞𝚖_𝚝𝚛𝚒𝚊𝚕𝚜) that takes as input two sequences 𝚜𝚎𝚚_𝚡 and 𝚜𝚎𝚚_𝚢, a scoring matrix 𝚜𝚌𝚘𝚛𝚒𝚗𝚐_𝚖𝚊𝚝𝚛𝚒𝚡, and a number of trials 𝚗𝚞𝚖_𝚝𝚛𝚒𝚊𝚕𝚜. This function should return a dictionary 𝚜𝚌𝚘𝚛𝚒𝚗𝚐_𝚍𝚒𝚜𝚝𝚛𝚒𝚋𝚞𝚝𝚒𝚘𝚗 that represents an un-normalized distribution generated by performing the following process 𝚗𝚞𝚖_𝚝𝚛𝚒𝚊𝚕𝚜 times:\n",
    "\n",
    "1. Generate a random permutation 𝚛𝚊𝚗𝚍_𝚢 of the sequence 𝚜𝚎𝚚_𝚢 using 𝚛𝚊𝚗𝚍𝚘𝚖.𝚜𝚑𝚞𝚏𝚏𝚕𝚎().\n",
    "2. Compute the maximum value 𝚜𝚌𝚘𝚛𝚎 for the local alignment of 𝚜𝚎𝚚_𝚡 and 𝚛𝚊𝚗𝚍_𝚢 using the score matrix 𝚜𝚌𝚘𝚛𝚒𝚗𝚐_𝚖𝚊𝚝𝚛𝚒𝚡.\n",
    "3. Increment the entry 𝚜𝚌𝚘𝚛𝚎 in the dictionary 𝚜𝚌𝚘𝚛𝚒𝚗𝚐_𝚍𝚒𝚜𝚝𝚛𝚒𝚋𝚞𝚝𝚒𝚘𝚗 by one."
   ]
  },
  {
   "cell_type": "code",
   "execution_count": 34,
   "metadata": {
    "collapsed": true
   },
   "outputs": [],
   "source": [
    "def generate_null_distribution(seq_x, seq_y, scoring_matrix, num_trials):\n",
    "    scoring_distribution = {}\n",
    "    for trial in range(num_trials):\n",
    "        rand_y = \"\".join(random.sample(seq_y, len(seq_y)))\n",
    "        _S_ = student.compute_alignment_matrix(seq_x, rand_y, scoring_matrix, 0)\n",
    "        max_score = 0\n",
    "        for _row_idx in range(len((_S_))-1,0,-1):\n",
    "            current_score = max(_S_[_row_idx])\n",
    "            if current_score > max_score:\n",
    "                max_score = current_score\n",
    "        scoring_distribution[max_score] = scoring_distribution.get(max_score,0) + 1\n",
    "    return scoring_distribution"
   ]
  },
  {
   "cell_type": "code",
   "execution_count": 35,
   "metadata": {
    "collapsed": false
   },
   "outputs": [
    {
     "name": "stdout",
     "output_type": "stream",
     "text": [
      "CPU times: user 9min, sys: 4.73 s, total: 9min 5s\n",
      "Wall time: 9min 2s\n"
     ]
    }
   ],
   "source": [
    "%time score_dist = generate_null_distribution(human,fly, M, 1000)"
   ]
  },
  {
   "cell_type": "code",
   "execution_count": 53,
   "metadata": {
    "collapsed": false
   },
   "outputs": [
    {
     "name": "stdout",
     "output_type": "stream",
     "text": [
      "{39: 2, 40: 4, 41: 11, 42: 23, 43: 26, 44: 39, 45: 42, 46: 63, 47: 65, 48: 64, 49: 64, 50: 62, 51: 67, 52: 63, 53: 60, 54: 52, 55: 54, 56: 40, 57: 32, 58: 35, 59: 20, 60: 13, 61: 10, 62: 12, 63: 15, 64: 16, 65: 8, 66: 7, 67: 5, 68: 4, 69: 5, 70: 4, 71: 2, 72: 2, 73: 1, 74: 1, 75: 2, 76: 1, 77: 1, 78: 1, 79: 2}\n"
     ]
    }
   ],
   "source": [
    "print score_dist"
   ]
  },
  {
   "cell_type": "code",
   "execution_count": 58,
   "metadata": {
    "collapsed": false
   },
   "outputs": [],
   "source": [
    "# create a copy of the key,value pairs\n",
    "test = score_dist.items()"
   ]
  },
  {
   "cell_type": "code",
   "execution_count": 140,
   "metadata": {
    "collapsed": false
   },
   "outputs": [
    {
     "name": "stdout",
     "output_type": "stream",
     "text": [
      "[39, 40, 41, 42, 43, 44, 45, 46, 47, 48, 49, 50, 51, 52, 53, 54, 55, 56, 57, 58, 59, 60, 61, 62, 63, 64, 65, 66, 67, 68, 69, 70, 71, 72, 73, 74, 75, 76, 77, 78, 79]\n"
     ]
    }
   ],
   "source": [
    "scores = score_dist.keys()\n",
    "print scores"
   ]
  },
  {
   "cell_type": "code",
   "execution_count": 127,
   "metadata": {
    "collapsed": true
   },
   "outputs": [],
   "source": [
    "count = score_dist.values()"
   ]
  },
  {
   "cell_type": "code",
   "execution_count": 143,
   "metadata": {
    "collapsed": false
   },
   "outputs": [
    {
     "name": "stdout",
     "output_type": "stream",
     "text": [
      "[0.002, 0.004, 0.011, 0.023, 0.026, 0.039, 0.042, 0.063, 0.065, 0.064, 0.064, 0.062, 0.067, 0.063, 0.06, 0.052, 0.054, 0.04, 0.032, 0.035, 0.02, 0.013, 0.01, 0.012, 0.015, 0.016, 0.008, 0.007, 0.005, 0.004, 0.005, 0.004, 0.002, 0.002, 0.001, 0.001, 0.002, 0.001, 0.001, 0.001, 0.002]\n"
     ]
    }
   ],
   "source": [
    "print [each/1000. for each in count]"
   ]
  },
  {
   "cell_type": "code",
   "execution_count": 128,
   "metadata": {
    "collapsed": false
   },
   "outputs": [
    {
     "name": "stdout",
     "output_type": "stream",
     "text": [
      "[2, 4, 11, 23, 26, 39, 42, 63, 65, 64, 64, 62, 67, 63, 60, 52, 54, 40, 32, 35, 20, 13, 10, 12, 15, 16, 8, 7, 5, 4, 5, 4, 2, 2, 1, 1, 2, 1, 1, 1, 2]\n"
     ]
    }
   ],
   "source": [
    "print count"
   ]
  },
  {
   "cell_type": "code",
   "execution_count": 149,
   "metadata": {
    "collapsed": true
   },
   "outputs": [],
   "source": [
    "norm_count = [each/1000. for each in count]"
   ]
  },
  {
   "cell_type": "code",
   "execution_count": 151,
   "metadata": {
    "collapsed": false
   },
   "outputs": [
    {
     "name": "stdout",
     "output_type": "stream",
     "text": [
      "[0.002, 0.004, 0.011, 0.023, 0.026, 0.039, 0.042, 0.063, 0.065, 0.064, 0.064, 0.062, 0.067, 0.063, 0.06, 0.052, 0.054, 0.04, 0.032, 0.035, 0.02, 0.013, 0.01, 0.012, 0.015, 0.016, 0.008, 0.007, 0.005, 0.004, 0.005, 0.004, 0.002, 0.002, 0.001, 0.001, 0.002, 0.001, 0.001, 0.001, 0.002]\n"
     ]
    }
   ],
   "source": [
    "print norm_count"
   ]
  },
  {
   "cell_type": "code",
   "execution_count": 59,
   "metadata": {
    "collapsed": true
   },
   "outputs": [],
   "source": [
    "# sort the copy of hte items in a new list\n",
    "test_sorted = sorted(test, key=lambda x: (x[1] * -1, x[0]))"
   ]
  },
  {
   "cell_type": "code",
   "execution_count": 69,
   "metadata": {
    "collapsed": false
   },
   "outputs": [
    {
     "name": "stdout",
     "output_type": "stream",
     "text": [
      "[(78, 1), (77, 1), (76, 1), (74, 1), (73, 1), (79, 2), (75, 2), (72, 2), (71, 2), (39, 2), (70, 4), (68, 4), (40, 4), (69, 5), (67, 5), (66, 7), (65, 8), (61, 10), (41, 11), (62, 12), (60, 13), (63, 15), (64, 16), (59, 20), (42, 23), (43, 26), (57, 32), (58, 35), (44, 39), (56, 40), (45, 42), (54, 52), (55, 54), (53, 60), (50, 62), (52, 63), (46, 63), (49, 64), (48, 64), (47, 65), (51, 67)]\n"
     ]
    }
   ],
   "source": [
    "# print the sorted list (may have to reverse the list based on sorted order)\n",
    "print test_sorted"
   ]
  },
  {
   "cell_type": "code",
   "execution_count": 136,
   "metadata": {
    "collapsed": true
   },
   "outputs": [],
   "source": [
    "total_trials = 1000.\n",
    "dist_normed_scores = []\n",
    "dist_fraction_trials = []\n",
    "for k,v in test_sorted:\n",
    "    _num_trials = v\n",
    "    _score = k\n",
    "    dist_normed_scores.append(_score)\n",
    "    norm_num_trials = _num_trials/total_trials\n",
    "    dist_fraction_trials.append(norm_num_trials)"
   ]
  },
  {
   "cell_type": "code",
   "execution_count": 137,
   "metadata": {
    "collapsed": false
   },
   "outputs": [
    {
     "name": "stdout",
     "output_type": "stream",
     "text": [
      "[39, 40, 41, 42, 43, 44, 45, 46, 47, 48, 49, 50, 51, 52, 53, 54, 55, 56, 57, 58, 59, 60, 61, 62, 63, 64, 65, 66, 67, 68, 69, 70, 71, 72, 73, 74, 75, 76, 77, 78, 79]\n",
      "41\n"
     ]
    }
   ],
   "source": [
    "print score_dist.keys()\n",
    "print len(score_dist.keys())"
   ]
  },
  {
   "cell_type": "code",
   "execution_count": null,
   "metadata": {
    "collapsed": true
   },
   "outputs": [],
   "source": []
  },
  {
   "cell_type": "code",
   "execution_count": 138,
   "metadata": {
    "collapsed": false
   },
   "outputs": [
    {
     "name": "stdout",
     "output_type": "stream",
     "text": [
      "[0.001, 0.001, 0.001, 0.001, 0.001, 0.002, 0.002, 0.002, 0.002, 0.002, 0.004, 0.004, 0.004, 0.005, 0.005, 0.007, 0.008, 0.01, 0.011, 0.012, 0.013, 0.015, 0.016, 0.02, 0.023, 0.026, 0.032, 0.035, 0.039, 0.04, 0.042, 0.052, 0.054, 0.06, 0.062, 0.063, 0.063, 0.064, 0.064, 0.065, 0.067]\n",
      "41\n"
     ]
    }
   ],
   "source": [
    "print dist_fraction_trials\n",
    "print len(dist_fraction_trials)"
   ]
  },
  {
   "cell_type": "code",
   "execution_count": 98,
   "metadata": {
    "collapsed": false
   },
   "outputs": [
    {
     "name": "stdout",
     "output_type": "stream",
     "text": [
      "[0.001, 0.001, 0.001, 0.001, 0.001, 0.002, 0.002, 0.002, 0.002, 0.002, 0.004, 0.004, 0.004, 0.005, 0.005, 0.007, 0.008, 0.01, 0.011, 0.012, 0.013, 0.015, 0.016, 0.02, 0.023, 0.026, 0.032, 0.035, 0.039, 0.04, 0.042, 0.052, 0.054, 0.06, 0.062, 0.063, 0.063, 0.064, 0.064, 0.065, 0.067]\n",
      "[78, 77, 76, 74, 73, 79, 75, 72, 71, 39, 70, 68, 40, 69, 67, 66, 65, 61, 41, 62, 60, 63, 64, 59, 42, 43, 57, 58, 44, 56, 45, 54, 55, 53, 50, 52, 46, 49, 48, 47, 51]\n"
     ]
    }
   ],
   "source": [
    "print dist_fraction_trials\n",
    "print dist_normed_scores"
   ]
  },
  {
   "cell_type": "markdown",
   "metadata": {},
   "source": [
    "### Question 4 - Part 2\n",
    "Next, create a bar plot of the normalized version of this distribution using 𝚙𝚕𝚝.𝚋𝚊𝚛 in 𝚖𝚊𝚝𝚙𝚕𝚘𝚝𝚕𝚒𝚋 (or your favorite plotting tool). (You will probably find CodeSkulptor too slow to do the required number of trials.) \n",
    "\n",
    "1. The horizontal axis should be the scores\n",
    "2. The vertical axis should be the fraction of total trials corresponding to each score. \n",
    "3. As usual, choose reasonable labels for the axes and title. Note: You may wish to save the distribution that you compute in this Question for later use in Question 5."
   ]
  },
  {
   "cell_type": "code",
   "execution_count": 77,
   "metadata": {
    "collapsed": false
   },
   "outputs": [],
   "source": [
    "%matplotlib inline"
   ]
  },
  {
   "cell_type": "code",
   "execution_count": 100,
   "metadata": {
    "collapsed": false
   },
   "outputs": [
    {
     "data": {
      "image/png": "[encoded data removed]",
      "text/plain": [
       "<matplotlib.figure.Figure at 0x1397ad890>"
      ]
     },
     "metadata": {},
     "output_type": "display_data"
    }
   ],
   "source": [
    "# create bar plot\n",
    "plt.figure(figsize=(25,10))\n",
    "#plt.bar(range(len(dist_normed_scores)), dist_normed_scores, align = 'center')\n",
    "plt.bar(range(len(dist_normed_scores)), dist_normed_scores, align = 'center')\n",
    "plt.xlim([-2,2])\n",
    "plt.xticks(range(len(dist_fraction_trials)), dist_fraction_trials)\n",
    "plt.show()"
   ]
  },
  {
   "cell_type": "code",
   "execution_count": 182,
   "metadata": {
    "collapsed": false
   },
   "outputs": [
    {
     "name": "stdout",
     "output_type": "stream",
     "text": [
      "41\n"
     ]
    }
   ],
   "source": [
    "print len(scores)"
   ]
  },
  {
   "cell_type": "code",
   "execution_count": 157,
   "metadata": {
    "collapsed": false
   },
   "outputs": [
    {
     "data": {
      "image/png": "[encoded data removed]",
      "text/plain": [
       "<matplotlib.figure.Figure at 0x139768a50>"
      ]
     },
     "metadata": {},
     "output_type": "display_data"
    }
   ],
   "source": [
    "import numpy as np\n",
    "import matplotlib.pyplot as plt\n",
    "\n",
    "fig = plt.figure(figsize=(25,10))\n",
    "ax = fig.add_subplot(111)\n",
    "\n",
    "## the data\n",
    "N = 41\n",
    "scores = [39, 40, 41, 42, 43, 44, 45, 46, 47, 48, 49, 50, 51, 52, 53, 54, 55, 56, 57, 58, 59, 60, 61, 62, 63, 64, 65, 66, 67, 68, 69, 70, 71, 72, 73, 74, 75, 76, 77, 78, 79]\n",
    "norm_count = [0.002, 0.004, 0.011, 0.023, 0.026, 0.039, 0.042, 0.063, 0.065, 0.064, 0.064, 0.062, 0.067, 0.063, 0.06, 0.052, 0.054, 0.04, 0.032, 0.035, 0.02, 0.013, 0.01, 0.012, 0.015, 0.016, 0.008, 0.007, 0.005, 0.004, 0.005, 0.004, 0.002, 0.002, 0.001, 0.001, 0.002, 0.001, 0.001, 0.001, 0.002]\n",
    "x_axis_scores = score_dist.keys()\n",
    "y_axis_trial_fract = [number/1000. for number in score_dist.values()]\n",
    "\n",
    "## necessary variables\n",
    "ind = np.arange(N)                # the x locations for the groups\n",
    "width = 0.40                      # the width of the bars\n",
    "\n",
    "## the bars\n",
    "#ax.bar(ind, y_axis_trial_fract, width,\n",
    "#                color='green')\n",
    "ax.bar(ind, norm_count, width,\n",
    "                color='green')\n",
    "\n",
    "# axes and labels\n",
    "ax.set_xlim(-width,len(ind)+width)\n",
    "ax.set_ylim(0,0.08,)\n",
    "ax.set_xlabel('Max Score')\n",
    "ax.set_ylabel(\"Fraction of Total Trials \")\n",
    "ax.set_title('Normalized Null Distribution of HumanEyelessProtein and Random FlyEyelessProtein Local Sequence Alignments')\n",
    "#xTickMarks = x_axis_scores\n",
    "xTickMarks = scores\n",
    "ax.set_xticks(ind+width)\n",
    "xtickNames = ax.set_xticklabels(xTickMarks)\n",
    "\n",
    "#yTickMark\n",
    "#ax.set_yticks()\n",
    "plt.setp(xtickNames, rotation=45, fontsize=10)\n",
    "\n",
    "\n",
    "## add a legend\n",
    "#ax.legend( (rects1[0], rects2[0]), ('Men', 'Women') )\n",
    "\n",
    "plt.show()"
   ]
  },
  {
   "cell_type": "code",
   "execution_count": 269,
   "metadata": {
    "collapsed": false
   },
   "outputs": [
    {
     "data": {
      "image/png": "[encoded data removed]",
      "text/plain": [
       "<matplotlib.figure.Figure at 0x1119d97d0>"
      ]
     },
     "metadata": {},
     "output_type": "display_data"
    }
   ],
   "source": [
    "D = {u'Label1':26, u'Label2': 17, u'Label3':30}\n",
    "\n",
    "plt.bar(range(len(D)), D.values(), align='center')\n",
    "plt.xticks(range(len(D)), D.keys())\n",
    "\n",
    "plt.show()"
   ]
  },
  {
   "cell_type": "code",
   "execution_count": 240,
   "metadata": {
    "collapsed": false
   },
   "outputs": [
    {
     "name": "stdout",
     "output_type": "stream",
     "text": [
      "[39, 40, 41, 42, 43, 44, 45, 46, 47, 48]\n"
     ]
    }
   ],
   "source": [
    "scores = score_dist_norm.keys()\n",
    "print scores[0:10]"
   ]
  },
  {
   "cell_type": "code",
   "execution_count": null,
   "metadata": {
    "collapsed": true
   },
   "outputs": [],
   "source": [
    "plt.boxplot(score_dist_norm.values(), score_dist_norm.keys())\n",
    "#plt.bar(D.keys(), D.values(), align='center')\n",
    "#plt.xticks(range(len(D)), D.keys())\n",
    "plt.plt()"
   ]
  },
  {
   "cell_type": "code",
   "execution_count": 235,
   "metadata": {
    "collapsed": false
   },
   "outputs": [
    {
     "data": {
      "text/plain": [
       "[0.002,\n",
       " 0.008,\n",
       " 0.02,\n",
       " 0.015,\n",
       " 0.026,\n",
       " 0.04,\n",
       " 0.059,\n",
       " 0.07,\n",
       " 0.081,\n",
       " 0.065,\n",
       " 0.067,\n",
       " 0.076,\n",
       " 0.062,\n",
       " 0.056,\n",
       " 0.05,\n",
       " 0.04,\n",
       " 0.046,\n",
       " 0.029,\n",
       " 0.034,\n",
       " 0.03,\n",
       " 0.019,\n",
       " 0.018,\n",
       " 0.017,\n",
       " 0.012,\n",
       " 0.007,\n",
       " 0.01,\n",
       " 0.01,\n",
       " 0.009,\n",
       " 0.004,\n",
       " 0.004,\n",
       " 0.001,\n",
       " 0.001,\n",
       " 0.004,\n",
       " 0.003,\n",
       " 0.001,\n",
       " 0.001,\n",
       " 0.002,\n",
       " 0.001]"
      ]
     },
     "execution_count": 235,
     "metadata": {},
     "output_type": "execute_result"
    }
   ],
   "source": [
    "score_dist_norm.values()"
   ]
  },
  {
   "cell_type": "code",
   "execution_count": 238,
   "metadata": {
    "collapsed": false
   },
   "outputs": [
    {
     "name": "stdout",
     "output_type": "stream",
     "text": [
      "[39, 40, 41, 42, 43, 44, 45, 46, 47, 48, 49, 50, 51, 52, 53, 54, 55, 56, 57, 58, 59, 60, 61, 62, 63, 64, 65, 66, 67, 68, 69, 70, 71, 72, 76, 78, 83, 105]\n"
     ]
    }
   ],
   "source": [
    "print score_dist_norm.keys()"
   ]
  },
  {
   "cell_type": "code",
   "execution_count": 231,
   "metadata": {
    "collapsed": false
   },
   "outputs": [
    {
     "name": "stdout",
     "output_type": "stream",
     "text": [
      "[(39, 2), (40, 8), (41, 20), (42, 15), (43, 26), (44, 40), (45, 59), (46, 70), (47, 81), (48, 65), (49, 67), (50, 76), (51, 62), (52, 56), (53, 50), (54, 40), (55, 46), (56, 29), (57, 34), (58, 30), (59, 19), (60, 18), (61, 17), (62, 12), (63, 7), (64, 10), (65, 10), (66, 9), (67, 4), (68, 4), (69, 1), (70, 1), (71, 4), (72, 3), (76, 1), (78, 1), (83, 2), (105, 1)]\n"
     ]
    }
   ],
   "source": [
    "print score_dist.items()"
   ]
  },
  {
   "cell_type": "code",
   "execution_count": 187,
   "metadata": {
    "collapsed": true
   },
   "outputs": [],
   "source": [
    "alphabet = string.letters[0:26]"
   ]
  },
  {
   "cell_type": "code",
   "execution_count": 196,
   "metadata": {
    "collapsed": false
   },
   "outputs": [
    {
     "data": {
      "text/plain": [
       "'KGXEPRVCBFQHATRXMFAYYFZQHRFWAARDSLTHZDKZUXQOIIDSGWWVFWAYRDDKMOYOQOYNVRABLGMVYORNLPYFXEEVXNMXUUFPULVGYDQDUGPLMSTACFZASKPMWMGQQNTECHGPQNQAKPSSWMEYVSJELJPBFIJBPJFAMERUTTDLJAOLXIYJASFYBQXTPQPDJKMALVRTYRVLLXXEGTJNHVCHFJUQLNPKPAMTOCVDFVRQNGJCYYXIVSCLPCNZCPKFNJNECEYFLZEEBMHHYVYXGVEEFFCPRRWBEASEVWPXFMABXWNYSACTKWURKWMONJCXDLZPIOBQRMZEXFSFBNZBAWLXAKAMERTQDENGOUVQLUUVMQFBPOIIJIJKYGGIOOZEIBCRYFCHWHCVYHVGCCIQDCVLIPBAIBBKNCEFDSOYDUWDAAPMAOTJUAOKJRXSYHONELISYVCYURVBUSLHHBTFTMGOFKOYRWVTNXGADXPUUTAFZAKTJATCBZKOBQBMGZJWFGSAJGZMLFMUCSACDOIWXQXOAOLRGWCWRBCDDLFVXIMJLFMYMQBQRLVDVCHWWZDNGXKOGIVGPNENEPVXKFTCXINANPGHIUOOBXAUYNUMIBAQEQVPGPOBGGDJZUTZGENCQLDNHAEIIADGMCQXWIJXAMYEHTQYIRSOUKUEMRMSSBRNFSENMNBAPQTBBKWJPWDJSPWEIKUIELZQMQVUAJSTNQYWWWZWTHVYVPNRVVIPJKJCSEJZOPWUHSOOADCOPAQGGNXPXLTJUKCGNBECUUKOWEPUKVSBEXPYPCJWTBMUPRJYXPSCDIOSJHASFNCMRRTOYNFKHZBFNWXSIVXRSODXDEJKQGNLH'"
      ]
     },
     "execution_count": 196,
     "metadata": {},
     "output_type": "execute_result"
    }
   ],
   "source": [
    "import string\n",
    "alphabet = string.letters[0:26]\n",
    "x = \"\"\n",
    "for dummy in range(857):\n",
    "    temp = alphabet[random.sample(range(26),1)[0]]\n",
    "    x += temp\n",
    "x"
   ]
  },
  {
   "cell_type": "code",
   "execution_count": 194,
   "metadata": {
    "collapsed": false
   },
   "outputs": [
    {
     "data": {
      "text/plain": [
       "9"
      ]
     },
     "execution_count": 194,
     "metadata": {},
     "output_type": "execute_result"
    }
   ],
   "source": [
    "alphabet[random.sample(range(26),1)[0]]"
   ]
  },
  {
   "cell_type": "code",
   "execution_count": 201,
   "metadata": {
    "collapsed": false
   },
   "outputs": [],
   "source": [
    "def use_shuffle(X, num_trials):\n",
    "    for trial in range(num_trials):\n",
    "        rand_x = \"\"\n",
    "        temp_y = X[:]\n",
    "        temp1_y = [[letter] for letter in X]\n",
    "        random.shuffle(temp1_y)\n",
    "        for letter in temp1_y:\n",
    "            rand_x += letter[0]"
   ]
  },
  {
   "cell_type": "code",
   "execution_count": 205,
   "metadata": {
    "collapsed": false
   },
   "outputs": [
    {
     "name": "stdout",
     "output_type": "stream",
     "text": [
      "CPU times: user 11.5 s, sys: 39.3 ms, total: 11.6 s\n",
      "Wall time: 11.5 s\n"
     ]
    }
   ],
   "source": [
    "%time use_shuffle(x, 10000)"
   ]
  },
  {
   "cell_type": "code",
   "execution_count": 211,
   "metadata": {
    "collapsed": false
   },
   "outputs": [],
   "source": [
    "def use_sample(X, num_trials):\n",
    "    for trial in range(num_trials):\n",
    "        rand_y = \"\".join(random.sample(X, len(X)))"
   ]
  },
  {
   "cell_type": "code",
   "execution_count": 216,
   "metadata": {
    "collapsed": false
   },
   "outputs": [
    {
     "name": "stdout",
     "output_type": "stream",
     "text": [
      "CPU times: user 5.18 s, sys: 39.7 ms, total: 5.22 s\n",
      "Wall time: 5.2 s\n"
     ]
    }
   ],
   "source": [
    "%time use_sample(x, 10000)"
   ]
  },
  {
   "cell_type": "code",
   "execution_count": 133,
   "metadata": {
    "collapsed": false
   },
   "outputs": [
    {
     "data": {
      "text/plain": [
       "[0.002,\n",
       " 0.004,\n",
       " 0.011,\n",
       " 0.023,\n",
       " 0.026,\n",
       " 0.039,\n",
       " 0.042,\n",
       " 0.063,\n",
       " 0.065,\n",
       " 0.064,\n",
       " 0.064,\n",
       " 0.062,\n",
       " 0.067,\n",
       " 0.063,\n",
       " 0.06,\n",
       " 0.052,\n",
       " 0.054,\n",
       " 0.04,\n",
       " 0.032,\n",
       " 0.035,\n",
       " 0.02,\n",
       " 0.013,\n",
       " 0.01,\n",
       " 0.012,\n",
       " 0.015,\n",
       " 0.016,\n",
       " 0.008,\n",
       " 0.007,\n",
       " 0.005,\n",
       " 0.004,\n",
       " 0.005,\n",
       " 0.004,\n",
       " 0.002,\n",
       " 0.002,\n",
       " 0.001,\n",
       " 0.001,\n",
       " 0.002,\n",
       " 0.001,\n",
       " 0.001,\n",
       " 0.001,\n",
       " 0.002]"
      ]
     },
     "execution_count": 133,
     "metadata": {},
     "output_type": "execute_result"
    }
   ],
   "source": [
    "z = [number/1000. for number in score_dist.values()]\n",
    "z"
   ]
  },
  {
   "cell_type": "code",
   "execution_count": 159,
   "metadata": {
    "collapsed": false
   },
   "outputs": [
    {
     "name": "stdout",
     "output_type": "stream",
     "text": [
      "[39, 40, 41, 42, 43, 44, 45, 46, 47, 48, 49, 50, 51, 52, 53, 54, 55, 56, 57, 58, 59, 60, 61, 62, 63, 64, 65, 66, 67, 68, 69, 70, 71, 72, 73, 74, 75, 76, 77, 78, 79]\n"
     ]
    }
   ],
   "source": [
    "print scores"
   ]
  },
  {
   "cell_type": "code",
   "execution_count": 160,
   "metadata": {
    "collapsed": false
   },
   "outputs": [
    {
     "name": "stdout",
     "output_type": "stream",
     "text": [
      "[2, 4, 11, 23, 26, 39, 42, 63, 65, 64, 64, 62, 67, 63, 60, 52, 54, 40, 32, 35, 20, 13, 10, 12, 15, 16, 8, 7, 5, 4, 5, 4, 2, 2, 1, 1, 2, 1, 1, 1, 2]\n"
     ]
    }
   ],
   "source": [
    "print count"
   ]
  },
  {
   "cell_type": "markdown",
   "metadata": {},
   "source": [
    "### Question 5 - Calcuate the Mean, Std Deviation and the Z score"
   ]
  },
  {
   "cell_type": "code",
   "execution_count": 202,
   "metadata": {
    "collapsed": false
   },
   "outputs": [
    {
     "name": "stdout",
     "output_type": "stream",
     "text": [
      "1000\n",
      "51854\n",
      "Mean 51.854\n"
     ]
    }
   ],
   "source": [
    "total = 0\n",
    "counter = 0\n",
    "mean = 0\n",
    "for score in scores:\n",
    "#    print score\n",
    "    counter += score_dist[score]\n",
    "    current = score_dist[score] * score\n",
    "    total += current\n",
    "    mean = total / 1000.\n",
    "print counter\n",
    "print total\n",
    "print \"Mean\", mean"
   ]
  },
  {
   "cell_type": "code",
   "execution_count": null,
   "metadata": {
    "collapsed": true
   },
   "outputs": [],
   "source": []
  },
  {
   "cell_type": "code",
   "execution_count": 175,
   "metadata": {
    "collapsed": false
   },
   "outputs": [
    {
     "name": "stdout",
     "output_type": "stream",
     "text": [
      "Std 6.54527952039\n"
     ]
    }
   ],
   "source": [
    "std = 0\n",
    "total_std = 0\n",
    "for idx in range(len(scores)):\n",
    "    for number in range(count[idx]):\n",
    "#        print scores[idx]\n",
    "        total_std += (scores[idx] - mean)**2\n",
    "std = (total_std/1000.)**0.5\n",
    "print \"Std\", std"
   ]
  },
  {
   "cell_type": "code",
   "execution_count": 181,
   "metadata": {
    "collapsed": false
   },
   "outputs": [
    {
     "name": "stdout",
     "output_type": "stream",
     "text": [
      "79\n"
     ]
    }
   ],
   "source": [
    "print "
   ]
  },
  {
   "cell_type": "code",
   "execution_count": 176,
   "metadata": {
    "collapsed": false
   },
   "outputs": [
    {
     "name": "stdout",
     "output_type": "stream",
     "text": [
      "Z-Score 125.761779529\n"
     ]
    }
   ],
   "source": [
    "# z-score\n",
    "z_score = (score1-mean)/std\n",
    "print \"Z-Score\", z_score\n"
   ]
  },
  {
   "cell_type": "markdown",
   "metadata": {},
   "source": [
    "### Question 6\n",
    "For bell-shaped distributions such as the normal distribution, the likelihood that an observation will fall within three multiples of the standard deviation for such distributions is very high.\n",
    "\n",
    "Based on your answers to Questions 4 and 5, is the score resulting from the local alignment of the HumanEyelessProtein and the FruitflyEyelessProtein due to chance? As a concrete question, which is more likely: the similarity between the human eyeless protein and the fruitfly eyeless protein being due to chance or winning the jackpot in an extremely large lottery? Provide a short explanation for your answers."
   ]
  },
  {
   "cell_type": "code",
   "execution_count": 184,
   "metadata": {
    "collapsed": false
   },
   "outputs": [
    {
     "data": {
      "text/plain": [
       "125.76177952921185"
      ]
     },
     "execution_count": 184,
     "metadata": {},
     "output_type": "execute_result"
    }
   ],
   "source": [
    "stds_outside = (score1-mean)/std\n",
    "stds_outside"
   ]
  },
  {
   "cell_type": "markdown",
   "metadata": {},
   "source": [
    "** The Z-score resulting from the local alignment of the HumanEyelessProtein and the FruitflyEyelessProtein is 125 over standard deviations above the mean.  Given that 99.7% of all observations will fall within just +/- 3 standard deviations of the mean, the statistical likelihood that the local alignment score of the two proteins is due to chance, is virtually zero.**\n",
    "\n",
    "** The likelihood of winning the lottery is even far more likely than the simiarlity between the human eyeless protein and the fruitfly eyeless protein being due to chance.  For example, the odds of winning the Spanish Christmas Lottery are 1 in 99,999.  Even this extremely low likelihood results in a Z-score of about -3.86.  Again, given that the local protein alignments for Human and Fruitfly have a Z-Score of 125 indicates there is virtually zero chance the score is due to chance. **"
   ]
  },
  {
   "cell_type": "code",
   "execution_count": 195,
   "metadata": {
    "collapsed": false
   },
   "outputs": [
    {
     "data": {
      "text/plain": [
       "1.000010000100001e-05"
      ]
     },
     "execution_count": 195,
     "metadata": {},
     "output_type": "execute_result"
    }
   ],
   "source": [
    "check = 1./(99999)\n",
    "check"
   ]
  },
  {
   "cell_type": "code",
   "execution_count": 193,
   "metadata": {
    "collapsed": false
   },
   "outputs": [
    {
     "data": {
      "text/plain": [
       "17999820"
      ]
     },
     "execution_count": 193,
     "metadata": {},
     "output_type": "execute_result"
    }
   ],
   "source": [
    "99999 * 180"
   ]
  },
  {
   "cell_type": "code",
   "execution_count": 199,
   "metadata": {
    "collapsed": false
   },
   "outputs": [
    {
     "data": {
      "text/plain": [
       "5.7077625570776254e-05"
      ]
     },
     "execution_count": 199,
     "metadata": {},
     "output_type": "execute_result"
    }
   ],
   "source": [
    "pb = 1./(292*(10*6))\n",
    "pb"
   ]
  },
  {
   "cell_type": "code",
   "execution_count": 197,
   "metadata": {
    "collapsed": false
   },
   "outputs": [
    {
     "data": {
      "text/plain": [
       "1000000"
      ]
     },
     "execution_count": 197,
     "metadata": {},
     "output_type": "execute_result"
    }
   ],
   "source": [
    "10**6"
   ]
  },
  {
   "cell_type": "code",
   "execution_count": 179,
   "metadata": {
    "collapsed": false
   },
   "outputs": [
    {
     "data": {
      "text/plain": [
       "1.000010000100001e-05"
      ]
     },
     "execution_count": 179,
     "metadata": {},
     "output_type": "execute_result"
    }
   ],
   "source": [
    "1./99999"
   ]
  },
  {
   "cell_type": "code",
   "execution_count": 187,
   "metadata": {
    "collapsed": false
   },
   "outputs": [
    {
     "data": {
      "text/plain": [
       "0.94949741652589625"
      ]
     },
     "execution_count": 187,
     "metadata": {},
     "output_type": "execute_result"
    }
   ],
   "source": [
    "import scipy.stats as st\n",
    "17999820"
   ]
  },
  {
   "cell_type": "code",
   "execution_count": 232,
   "metadata": {
    "collapsed": false
   },
   "outputs": [
    {
     "name": "stdout",
     "output_type": "stream",
     "text": [
      "1.0000100001e-05\n",
      "-4.26488856114\n",
      "1.0\n"
     ]
    }
   ],
   "source": [
    "print 1./99999\n",
    "print st.norm.ppf(1.0000100001e-05) \n",
    "#print a * 100\n",
    "#1.6448536269514722\n",
    "#print st.norm.cdf(z_score)\n",
    "#0.94949741652589625"
   ]
  },
  {
   "cell_type": "markdown",
   "metadata": {},
   "source": [
    "### Question 7"
   ]
  },
  {
   "cell_type": "markdown",
   "metadata": {},
   "source": [
    "Spelling correction\n",
    "\n",
    "Up to now, we have measured the similarity of two strings. In other applications, measuring the dissimilarity of two sequences is also useful. Given two strings, the **edit** distance corresponds to the minimum number of single character insertions, deletions, and substitutions that are needed to transform one string into another. In particular, if x and y are strings and a and b are characters, these edit operations have the form:\n",
    "\n",
    "- Insert - Replace the string x+y by the string x+a+y.\n",
    "- Delete - Replace the string x+a+y by the string x+y.\n",
    "- Substitute - Replace the string x+a+y by the string x+b+y,"
   ]
  },
  {
   "cell_type": "markdown",
   "metadata": {},
   "source": [
    "Not surprisingly, similarity between pairs of sequences and edit distances between pairs of strings are related. In particular, the edit distance for two strings x and y can be expressed in terms of the lengths of the two strings and their corresponding similarity score as follows:|x|+|y|−score(x,y) where score(x,y) is the score returned by the global alignment of these two strings using a very simple scoring matrix that can be computed using 𝚋𝚞𝚒𝚕𝚍_𝚜𝚌𝚘𝚛𝚒𝚗𝚐_𝚖𝚊𝚝𝚛𝚒𝚡.\n",
    "\n",
    "Determine the values for 𝚍𝚒𝚊𝚐_𝚜𝚌𝚘𝚛𝚎, 𝚘𝚏𝚏_𝚍𝚒𝚊𝚐_𝚜𝚌𝚘𝚛𝚎, and 𝚍𝚊𝚜𝚑_𝚜𝚌𝚘𝚛𝚎 such that the score from the resulting global alignment yields the edit distance when substituted into the formula above. Be sure to indicate which values corresponds to which parameters. Finally, as a side note, be aware that there are alternative formulations of edit distance as a dynamic programming problem using different scoring matrices. For this problem, please restrict your consideration to the formulation used above."
   ]
  },
  {
   "cell_type": "code",
   "execution_count": 215,
   "metadata": {
    "collapsed": true
   },
   "outputs": [],
   "source": [
    "x = \"ATA\"\n",
    "y = \"ACCA\""
   ]
  },
  {
   "cell_type": "code",
   "execution_count": 216,
   "metadata": {
    "collapsed": true
   },
   "outputs": [],
   "source": [
    "letters = set([\"A\",\"C\",\"T\",\"G\"])\n",
    "diag_score1 = 10\n",
    "off_diag_score1 = 6\n",
    "dash_score1 = -3"
   ]
  },
  {
   "cell_type": "code",
   "execution_count": 217,
   "metadata": {
    "collapsed": true
   },
   "outputs": [],
   "source": [
    "q7_M = student.build_scoring_matrix(letters, diag_score1, off_diag_score1, dash_score1)"
   ]
  },
  {
   "cell_type": "code",
   "execution_count": 218,
   "metadata": {
    "collapsed": false
   },
   "outputs": [
    {
     "data": {
      "text/plain": [
       "{'-': {'-': -3, 'A': -3, 'C': -3, 'G': -3, 'T': -3},\n",
       " 'A': {'-': -3, 'A': 10, 'C': 6, 'G': 6, 'T': 6},\n",
       " 'C': {'-': -3, 'A': 6, 'C': 10, 'G': 6, 'T': 6},\n",
       " 'G': {'-': -3, 'A': 6, 'C': 6, 'G': 10, 'T': 6},\n",
       " 'T': {'-': -3, 'A': 6, 'C': 6, 'G': 6, 'T': 10}}"
      ]
     },
     "execution_count": 218,
     "metadata": {},
     "output_type": "execute_result"
    }
   ],
   "source": [
    "q7_M"
   ]
  },
  {
   "cell_type": "code",
   "execution_count": 219,
   "metadata": {
    "collapsed": true
   },
   "outputs": [],
   "source": [
    "q7_S = student.compute_alignment_matrix(x, y, q7_M, 1)"
   ]
  },
  {
   "cell_type": "code",
   "execution_count": 220,
   "metadata": {
    "collapsed": false
   },
   "outputs": [
    {
     "data": {
      "text/plain": [
       "[[0, -3, -6, -9, -12],\n",
       " [-3, 10, 7, 4, 1],\n",
       " [-6, 7, 16, 13, 10],\n",
       " [-9, 4, 13, 22, 23]]"
      ]
     },
     "execution_count": 220,
     "metadata": {},
     "output_type": "execute_result"
    }
   ],
   "source": [
    "q7_S"
   ]
  },
  {
   "cell_type": "code",
   "execution_count": 222,
   "metadata": {
    "collapsed": false
   },
   "outputs": [
    {
     "data": {
      "text/plain": [
       "(23, 'A-TA', 'ACCA')"
      ]
     },
     "execution_count": 222,
     "metadata": {},
     "output_type": "execute_result"
    }
   ],
   "source": [
    "student.compute_global_alignment(x, y, q7_M, q7_S)"
   ]
  },
  {
   "cell_type": "code",
   "execution_count": 362,
   "metadata": {
    "collapsed": false
   },
   "outputs": [
    {
     "data": {
      "text/plain": [
       "True"
      ]
     },
     "execution_count": 362,
     "metadata": {},
     "output_type": "execute_result"
    }
   ],
   "source": [
    "a = 'HSGVNQLGGVFVNGRPLPDSTRQKIVELAHSGARPCDISRILQVSNGCVSKILGRYYETGSIRPRAIGGSKPRVATPEVVSKIAQYKRECPSIFAWEIRDRLLSEGVCTNDNIPSVSSINRVLRNLASEK-QQ'\n",
    "b = 'HSGVNQLGGVFVNGRPLPDSTRQKIVELAHSGARPCDISRILQVSNGCVSKILGRYYETGSIRPRAIGGSKPRVATPEVVSKIAQYKRECPSIFAWEIRDRLLSEGVCTNDNIPSVSSINRVLRNLASEK-QQ'\n",
    "a == b"
   ]
  },
  {
   "cell_type": "code",
   "execution_count": null,
   "metadata": {
    "collapsed": true
   },
   "outputs": [],
   "source": []
  }
 ],
 "metadata": {
  "kernelspec": {
   "display_name": "Python 2",
   "language": "python",
   "name": "python2"
  },
  "language_info": {
   "codemirror_mode": {
    "name": "ipython",
    "version": 2
   },
   "file_extension": ".py",
   "mimetype": "text/x-python",
   "name": "python",
   "nbconvert_exporter": "python",
   "pygments_lexer": "ipython2",
   "version": "2.7.11"
  }
 },
 "nbformat": 4,
 "nbformat_minor": 0
}
